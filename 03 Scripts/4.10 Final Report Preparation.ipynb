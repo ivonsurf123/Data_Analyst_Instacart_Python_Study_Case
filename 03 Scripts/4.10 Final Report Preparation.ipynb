{
 "cells": [
  {
   "cell_type": "markdown",
   "id": "4e07768b-9742-4f52-b32b-186809195527",
   "metadata": {},
   "source": [
    "# Final report preparation"
   ]
  },
  {
   "cell_type": "code",
   "execution_count": 2,
   "id": "33c917bf-c779-493e-ba08-857b7f9296f4",
   "metadata": {},
   "outputs": [],
   "source": [
    "# Importing libraries\n",
    "\n",
    "import pandas as pd\n",
    "import numpy as np\n",
    "import os\n",
    "import matplotlib.pyplot as plt\n",
    "import seaborn as sns\n",
    "import scipy\n",
    "\n",
    "# Changing the format of the values visualization\n",
    "\n",
    "pd.options.display.float_format = '{:.2f}'.format\n",
    "\n",
    "# Reseting the maximum number of columns to display to default (all columns)\n",
    "\n",
    "pd.set_option('display.max_columns', None)"
   ]
  },
  {
   "cell_type": "code",
   "execution_count": 4,
   "id": "44f710ae-ce52-4e79-9f13-b7fd78a4b7cb",
   "metadata": {},
   "outputs": [],
   "source": [
    "path = r'C:\\Users\\IVON6\\Instacart Basket Analysis'"
   ]
  },
  {
   "cell_type": "markdown",
   "id": "28e2e9fd-6874-4251-81fa-54467be9e5d4",
   "metadata": {},
   "source": [
    "## Importing Data"
   ]
  },
  {
   "cell_type": "code",
   "execution_count": 7,
   "id": "a5994d0c-a6f2-41f8-a4fc-1fe4c4c93b8f",
   "metadata": {},
   "outputs": [],
   "source": [
    "# Importing raw data\n",
    "\n",
    "orders_raw = pd.read_csv(os.path.join(path, '02 Data', 'Original Data', 'orders.csv'))"
   ]
  },
  {
   "cell_type": "code",
   "execution_count": 9,
   "id": "e5bbc508-29d9-4d95-b4cf-291e98cee4b9",
   "metadata": {},
   "outputs": [],
   "source": [
    "order_products_raw = pd.read_csv(os.path.join(path, '02 Data', 'Original Data', 'orders_products_prior.csv'))"
   ]
  },
  {
   "cell_type": "code",
   "execution_count": 11,
   "id": "20299081-f2f9-4065-ab42-cc5ff644f7b7",
   "metadata": {},
   "outputs": [],
   "source": [
    "products_raw = pd.read_csv(os.path.join(path, '02 Data', 'Original Data', 'products.csv'))"
   ]
  },
  {
   "cell_type": "code",
   "execution_count": 13,
   "id": "9f31df04-e362-4f39-ba5e-cdfc6cd41f36",
   "metadata": {},
   "outputs": [],
   "source": [
    "customers_raw = pd.read_csv(os.path.join(path, '02 Data', 'Original Data', 'customers.csv'))"
   ]
  },
  {
   "cell_type": "code",
   "execution_count": 15,
   "id": "65acb385-5f78-4730-b286-b6ac25a4d31f",
   "metadata": {},
   "outputs": [],
   "source": [
    "departments_raw = pd.read_csv(os.path.join(path, '02 Data', 'Original Data', 'departments.csv'))"
   ]
  },
  {
   "cell_type": "code",
   "execution_count": 47,
   "id": "d0543374-11d1-4f45-a053-917952ad25bb",
   "metadata": {},
   "outputs": [],
   "source": [
    "orders_clean = pd.read_csv(os.path.join(path, '02 Data', 'Prepared Data', 'orders_cleanData.csv'))"
   ]
  },
  {
   "cell_type": "code",
   "execution_count": 51,
   "id": "42fee240-62a5-409e-af82-8f3980571110",
   "metadata": {},
   "outputs": [],
   "source": [
    "orders_products_combined = pd.read_pickle(os.path.join(path, '02 Data', 'Prepared Data', 'orders_products_combined.pkl'))"
   ]
  },
  {
   "cell_type": "code",
   "execution_count": 55,
   "id": "188ca134-d395-40ed-86db-551fe6c7a13f",
   "metadata": {},
   "outputs": [],
   "source": [
    "ords_prods_grouped = pd.read_pickle(os.path.join(path, '02 Data', 'Prepared Data', 'ords_prods_grouped.pkl'))"
   ]
  },
  {
   "cell_type": "code",
   "execution_count": 59,
   "id": "251d35e4-82c2-44f4-bdf9-9bff7ef9f57d",
   "metadata": {},
   "outputs": [],
   "source": [
    "products_clean = pd.read_csv(os.path.join(path, '02 Data', 'Prepared Data', 'products_cleanData.csv'))"
   ]
  },
  {
   "cell_type": "code",
   "execution_count": 17,
   "id": "ac764d4b-59be-49c9-bfe7-252396b8ab5a",
   "metadata": {},
   "outputs": [],
   "source": [
    "# importing updated data \n",
    "profiling_cust_data_filtered = pd.read_pickle(os.path.join(path, '02 Data', 'Prepared Data', 'profiling_cust_data.pkl'))"
   ]
  },
  {
   "cell_type": "code",
   "execution_count": 23,
   "id": "ed16ef16-f1c5-4e96-82b7-c59b5f87ed3f",
   "metadata": {},
   "outputs": [],
   "source": [
    "ords_prods_cust_merged = pd.read_pickle(os.path.join(path, '02 Data', 'Prepared Data', 'ords_prods_cust_merged.pkl'))"
   ]
  },
  {
   "cell_type": "markdown",
   "id": "2885bd50-c9ca-4b7c-b25d-4847d4bf7a32",
   "metadata": {},
   "source": [
    "##  Calculating population flow"
   ]
  },
  {
   "cell_type": "code",
   "execution_count": 28,
   "id": "9cf9367c-f137-4b84-a941-b949700f1d53",
   "metadata": {},
   "outputs": [
    {
     "data": {
      "text/plain": [
       "(3421083, 7)"
      ]
     },
     "execution_count": 28,
     "metadata": {},
     "output_type": "execute_result"
    }
   ],
   "source": [
    "orders_raw.shape"
   ]
  },
  {
   "cell_type": "code",
   "execution_count": 30,
   "id": "9ce274ff-33da-4bdf-a4b4-f8142b891f4f",
   "metadata": {},
   "outputs": [
    {
     "data": {
      "text/plain": [
       "(32434489, 4)"
      ]
     },
     "execution_count": 30,
     "metadata": {},
     "output_type": "execute_result"
    }
   ],
   "source": [
    "order_products_raw.shape"
   ]
  },
  {
   "cell_type": "code",
   "execution_count": 32,
   "id": "7188e2bb-acbf-48a2-bca9-651fac624b02",
   "metadata": {},
   "outputs": [
    {
     "data": {
      "text/plain": [
       "(49693, 5)"
      ]
     },
     "execution_count": 32,
     "metadata": {},
     "output_type": "execute_result"
    }
   ],
   "source": [
    "products_raw.shape"
   ]
  },
  {
   "cell_type": "code",
   "execution_count": 34,
   "id": "cd944b76-a518-403c-8d9c-e86414a740e8",
   "metadata": {},
   "outputs": [
    {
     "data": {
      "text/plain": [
       "(206209, 10)"
      ]
     },
     "execution_count": 34,
     "metadata": {},
     "output_type": "execute_result"
    }
   ],
   "source": [
    "customers_raw.shape"
   ]
  },
  {
   "cell_type": "code",
   "execution_count": 36,
   "id": "b0d8a460-c7c7-4a5f-aa67-cc245c08fa59",
   "metadata": {},
   "outputs": [
    {
     "data": {
      "text/plain": [
       "(1, 22)"
      ]
     },
     "execution_count": 36,
     "metadata": {},
     "output_type": "execute_result"
    }
   ],
   "source": [
    "departments_raw.shape"
   ]
  },
  {
   "cell_type": "code",
   "execution_count": 49,
   "id": "46a4889d-bd55-4b97-841a-f882443be9e3",
   "metadata": {},
   "outputs": [
    {
     "data": {
      "text/plain": [
       "(3421083, 8)"
      ]
     },
     "execution_count": 49,
     "metadata": {},
     "output_type": "execute_result"
    }
   ],
   "source": [
    "orders_clean.shape"
   ]
  },
  {
   "cell_type": "code",
   "execution_count": 53,
   "id": "89f8256d-4f70-47b7-9b23-4b7ffbdcd2b9",
   "metadata": {},
   "outputs": [
    {
     "data": {
      "text/plain": [
       "(32434489, 11)"
      ]
     },
     "execution_count": 53,
     "metadata": {},
     "output_type": "execute_result"
    }
   ],
   "source": [
    "orders_products_combined.shape"
   ]
  },
  {
   "cell_type": "code",
   "execution_count": 56,
   "id": "c7221202-6552-4ca1-9326-f7d94686ea59",
   "metadata": {},
   "outputs": [
    {
     "data": {
      "text/plain": [
       "(32404859, 25)"
      ]
     },
     "execution_count": 56,
     "metadata": {},
     "output_type": "execute_result"
    }
   ],
   "source": [
    "ords_prods_grouped.shape"
   ]
  },
  {
   "cell_type": "code",
   "execution_count": 61,
   "id": "84021047-cb3d-45b5-99c4-09c77d1e13ee",
   "metadata": {},
   "outputs": [
    {
     "data": {
      "text/plain": [
       "(49672, 6)"
      ]
     },
     "execution_count": 61,
     "metadata": {},
     "output_type": "execute_result"
    }
   ],
   "source": [
    "products_clean.shape"
   ]
  },
  {
   "cell_type": "code",
   "execution_count": 38,
   "id": "0b31add8-c177-48dd-af1e-4e0c69f545f7",
   "metadata": {},
   "outputs": [
    {
     "data": {
      "text/plain": [
       "(30964564, 36)"
      ]
     },
     "execution_count": 38,
     "metadata": {},
     "output_type": "execute_result"
    }
   ],
   "source": [
    "profiling_cust_data_filtered.shape"
   ]
  },
  {
   "cell_type": "code",
   "execution_count": 40,
   "id": "15e3cae0-98f7-4835-a8c3-6e4139aff507",
   "metadata": {},
   "outputs": [
    {
     "data": {
      "text/plain": [
       "(32404859, 33)"
      ]
     },
     "execution_count": 40,
     "metadata": {},
     "output_type": "execute_result"
    }
   ],
   "source": [
    "ords_prods_cust_merged.shape"
   ]
  },
  {
   "cell_type": "markdown",
   "id": "9b0ac32d-eb4c-411e-9c02-3394b7eaa632",
   "metadata": {},
   "source": [
    "## Exploring data"
   ]
  },
  {
   "cell_type": "code",
   "execution_count": 43,
   "id": "cb22b8d8-0ca2-4d36-81ea-d31ef44dcea0",
   "metadata": {},
   "outputs": [
    {
     "data": {
      "text/html": [
       "<div>\n",
       "<style scoped>\n",
       "    .dataframe tbody tr th:only-of-type {\n",
       "        vertical-align: middle;\n",
       "    }\n",
       "\n",
       "    .dataframe tbody tr th {\n",
       "        vertical-align: top;\n",
       "    }\n",
       "\n",
       "    .dataframe thead th {\n",
       "        text-align: right;\n",
       "    }\n",
       "</style>\n",
       "<table border=\"1\" class=\"dataframe\">\n",
       "  <thead>\n",
       "    <tr style=\"text-align: right;\">\n",
       "      <th></th>\n",
       "      <th>product_id</th>\n",
       "      <th>product_name</th>\n",
       "      <th>aisle_id</th>\n",
       "      <th>department_id</th>\n",
       "      <th>prices</th>\n",
       "      <th>order_id</th>\n",
       "      <th>user_id</th>\n",
       "      <th>order_number</th>\n",
       "      <th>orders_day_of_week</th>\n",
       "      <th>order_hour_of_day</th>\n",
       "      <th>days_since_prior_order</th>\n",
       "      <th>first_order</th>\n",
       "      <th>add_to_cart_order</th>\n",
       "      <th>reordered</th>\n",
       "      <th>price_range_loc</th>\n",
       "      <th>busiest_day</th>\n",
       "      <th>busiest_days</th>\n",
       "      <th>busiest_period_of_day</th>\n",
       "      <th>max_order</th>\n",
       "      <th>loyalty_flag</th>\n",
       "      <th>mean_price</th>\n",
       "      <th>spenders</th>\n",
       "      <th>median_days_since_prior_order</th>\n",
       "      <th>frequency_flag</th>\n",
       "      <th>gender</th>\n",
       "      <th>state</th>\n",
       "      <th>age</th>\n",
       "      <th>date_joined</th>\n",
       "      <th>num_dependants</th>\n",
       "      <th>marital_status</th>\n",
       "      <th>income</th>\n",
       "      <th>_merge</th>\n",
       "      <th>region</th>\n",
       "      <th>activity_flag</th>\n",
       "      <th>age_group</th>\n",
       "      <th>customer_profile</th>\n",
       "    </tr>\n",
       "  </thead>\n",
       "  <tbody>\n",
       "    <tr>\n",
       "      <th>0</th>\n",
       "      <td>1</td>\n",
       "      <td>Chocolate Sandwich Cookies</td>\n",
       "      <td>61</td>\n",
       "      <td>19</td>\n",
       "      <td>5.80</td>\n",
       "      <td>3139998</td>\n",
       "      <td>138</td>\n",
       "      <td>28</td>\n",
       "      <td>6</td>\n",
       "      <td>11</td>\n",
       "      <td>3.00</td>\n",
       "      <td>False</td>\n",
       "      <td>5</td>\n",
       "      <td>0</td>\n",
       "      <td>Mid-range product</td>\n",
       "      <td>Regularly busy</td>\n",
       "      <td>Regularly busy</td>\n",
       "      <td>Most orders</td>\n",
       "      <td>32</td>\n",
       "      <td>Regular customer</td>\n",
       "      <td>6.94</td>\n",
       "      <td>Low spender</td>\n",
       "      <td>8.00</td>\n",
       "      <td>Frequent customer</td>\n",
       "      <td>Male</td>\n",
       "      <td>Minnesota</td>\n",
       "      <td>81</td>\n",
       "      <td>8/1/2019</td>\n",
       "      <td>1</td>\n",
       "      <td>married</td>\n",
       "      <td>49620</td>\n",
       "      <td>both</td>\n",
       "      <td>Midwest</td>\n",
       "      <td>high-activity customer</td>\n",
       "      <td>65+</td>\n",
       "      <td>Married Without Children</td>\n",
       "    </tr>\n",
       "    <tr>\n",
       "      <th>1</th>\n",
       "      <td>1</td>\n",
       "      <td>Chocolate Sandwich Cookies</td>\n",
       "      <td>61</td>\n",
       "      <td>19</td>\n",
       "      <td>5.80</td>\n",
       "      <td>1977647</td>\n",
       "      <td>138</td>\n",
       "      <td>30</td>\n",
       "      <td>6</td>\n",
       "      <td>17</td>\n",
       "      <td>20.00</td>\n",
       "      <td>False</td>\n",
       "      <td>1</td>\n",
       "      <td>1</td>\n",
       "      <td>Mid-range product</td>\n",
       "      <td>Regularly busy</td>\n",
       "      <td>Regularly busy</td>\n",
       "      <td>Average orders</td>\n",
       "      <td>32</td>\n",
       "      <td>Regular customer</td>\n",
       "      <td>6.94</td>\n",
       "      <td>Low spender</td>\n",
       "      <td>8.00</td>\n",
       "      <td>Frequent customer</td>\n",
       "      <td>Male</td>\n",
       "      <td>Minnesota</td>\n",
       "      <td>81</td>\n",
       "      <td>8/1/2019</td>\n",
       "      <td>1</td>\n",
       "      <td>married</td>\n",
       "      <td>49620</td>\n",
       "      <td>both</td>\n",
       "      <td>Midwest</td>\n",
       "      <td>high-activity customer</td>\n",
       "      <td>65+</td>\n",
       "      <td>Married Without Children</td>\n",
       "    </tr>\n",
       "    <tr>\n",
       "      <th>2</th>\n",
       "      <td>1</td>\n",
       "      <td>Chocolate Sandwich Cookies</td>\n",
       "      <td>61</td>\n",
       "      <td>19</td>\n",
       "      <td>5.80</td>\n",
       "      <td>389851</td>\n",
       "      <td>709</td>\n",
       "      <td>2</td>\n",
       "      <td>0</td>\n",
       "      <td>21</td>\n",
       "      <td>6.00</td>\n",
       "      <td>False</td>\n",
       "      <td>20</td>\n",
       "      <td>0</td>\n",
       "      <td>Mid-range product</td>\n",
       "      <td>Busiest day</td>\n",
       "      <td>Busiest days</td>\n",
       "      <td>Average orders</td>\n",
       "      <td>5</td>\n",
       "      <td>New customer</td>\n",
       "      <td>7.93</td>\n",
       "      <td>Low spender</td>\n",
       "      <td>8.00</td>\n",
       "      <td>Frequent customer</td>\n",
       "      <td>Female</td>\n",
       "      <td>Vermont</td>\n",
       "      <td>66</td>\n",
       "      <td>6/16/2018</td>\n",
       "      <td>2</td>\n",
       "      <td>married</td>\n",
       "      <td>158302</td>\n",
       "      <td>both</td>\n",
       "      <td>Northeast</td>\n",
       "      <td>high-activity customer</td>\n",
       "      <td>65+</td>\n",
       "      <td>Married With Children</td>\n",
       "    </tr>\n",
       "    <tr>\n",
       "      <th>5</th>\n",
       "      <td>1</td>\n",
       "      <td>Chocolate Sandwich Cookies</td>\n",
       "      <td>61</td>\n",
       "      <td>19</td>\n",
       "      <td>5.80</td>\n",
       "      <td>1701441</td>\n",
       "      <td>777</td>\n",
       "      <td>16</td>\n",
       "      <td>1</td>\n",
       "      <td>7</td>\n",
       "      <td>26.00</td>\n",
       "      <td>False</td>\n",
       "      <td>7</td>\n",
       "      <td>0</td>\n",
       "      <td>Mid-range product</td>\n",
       "      <td>Busiest day</td>\n",
       "      <td>Busiest days</td>\n",
       "      <td>Average orders</td>\n",
       "      <td>26</td>\n",
       "      <td>Regular customer</td>\n",
       "      <td>6.94</td>\n",
       "      <td>Low spender</td>\n",
       "      <td>11.00</td>\n",
       "      <td>Regular customer</td>\n",
       "      <td>Female</td>\n",
       "      <td>Hawaii</td>\n",
       "      <td>51</td>\n",
       "      <td>1/4/2019</td>\n",
       "      <td>2</td>\n",
       "      <td>married</td>\n",
       "      <td>57797</td>\n",
       "      <td>both</td>\n",
       "      <td>West</td>\n",
       "      <td>high-activity customer</td>\n",
       "      <td>41-54</td>\n",
       "      <td>Married With Children</td>\n",
       "    </tr>\n",
       "    <tr>\n",
       "      <th>6</th>\n",
       "      <td>1</td>\n",
       "      <td>Chocolate Sandwich Cookies</td>\n",
       "      <td>61</td>\n",
       "      <td>19</td>\n",
       "      <td>5.80</td>\n",
       "      <td>1871483</td>\n",
       "      <td>825</td>\n",
       "      <td>3</td>\n",
       "      <td>2</td>\n",
       "      <td>14</td>\n",
       "      <td>30.00</td>\n",
       "      <td>False</td>\n",
       "      <td>2</td>\n",
       "      <td>0</td>\n",
       "      <td>Mid-range product</td>\n",
       "      <td>Regularly busy</td>\n",
       "      <td>Regularly busy</td>\n",
       "      <td>Most orders</td>\n",
       "      <td>9</td>\n",
       "      <td>New customer</td>\n",
       "      <td>5.96</td>\n",
       "      <td>Low spender</td>\n",
       "      <td>20.00</td>\n",
       "      <td>Regular customer</td>\n",
       "      <td>Male</td>\n",
       "      <td>District of Columbia</td>\n",
       "      <td>20</td>\n",
       "      <td>5/8/2019</td>\n",
       "      <td>3</td>\n",
       "      <td>living with parents and siblings</td>\n",
       "      <td>34171</td>\n",
       "      <td>both</td>\n",
       "      <td>South</td>\n",
       "      <td>high-activity customer</td>\n",
       "      <td>18-24</td>\n",
       "      <td>Living with Parents</td>\n",
       "    </tr>\n",
       "  </tbody>\n",
       "</table>\n",
       "</div>"
      ],
      "text/plain": [
       "   product_id                product_name  aisle_id  department_id  prices  \\\n",
       "0           1  Chocolate Sandwich Cookies        61             19    5.80   \n",
       "1           1  Chocolate Sandwich Cookies        61             19    5.80   \n",
       "2           1  Chocolate Sandwich Cookies        61             19    5.80   \n",
       "5           1  Chocolate Sandwich Cookies        61             19    5.80   \n",
       "6           1  Chocolate Sandwich Cookies        61             19    5.80   \n",
       "\n",
       "   order_id  user_id  order_number  orders_day_of_week  order_hour_of_day  \\\n",
       "0   3139998      138            28                   6                 11   \n",
       "1   1977647      138            30                   6                 17   \n",
       "2    389851      709             2                   0                 21   \n",
       "5   1701441      777            16                   1                  7   \n",
       "6   1871483      825             3                   2                 14   \n",
       "\n",
       "   days_since_prior_order  first_order  add_to_cart_order  reordered  \\\n",
       "0                    3.00        False                  5          0   \n",
       "1                   20.00        False                  1          1   \n",
       "2                    6.00        False                 20          0   \n",
       "5                   26.00        False                  7          0   \n",
       "6                   30.00        False                  2          0   \n",
       "\n",
       "     price_range_loc     busiest_day    busiest_days busiest_period_of_day  \\\n",
       "0  Mid-range product  Regularly busy  Regularly busy           Most orders   \n",
       "1  Mid-range product  Regularly busy  Regularly busy        Average orders   \n",
       "2  Mid-range product     Busiest day    Busiest days        Average orders   \n",
       "5  Mid-range product     Busiest day    Busiest days        Average orders   \n",
       "6  Mid-range product  Regularly busy  Regularly busy           Most orders   \n",
       "\n",
       "   max_order      loyalty_flag  mean_price     spenders  \\\n",
       "0         32  Regular customer        6.94  Low spender   \n",
       "1         32  Regular customer        6.94  Low spender   \n",
       "2          5      New customer        7.93  Low spender   \n",
       "5         26  Regular customer        6.94  Low spender   \n",
       "6          9      New customer        5.96  Low spender   \n",
       "\n",
       "   median_days_since_prior_order     frequency_flag  gender  \\\n",
       "0                           8.00  Frequent customer    Male   \n",
       "1                           8.00  Frequent customer    Male   \n",
       "2                           8.00  Frequent customer  Female   \n",
       "5                          11.00   Regular customer  Female   \n",
       "6                          20.00   Regular customer    Male   \n",
       "\n",
       "                  state  age date_joined  num_dependants  \\\n",
       "0             Minnesota   81    8/1/2019               1   \n",
       "1             Minnesota   81    8/1/2019               1   \n",
       "2               Vermont   66   6/16/2018               2   \n",
       "5                Hawaii   51    1/4/2019               2   \n",
       "6  District of Columbia   20    5/8/2019               3   \n",
       "\n",
       "                     marital_status  income _merge     region  \\\n",
       "0                           married   49620   both    Midwest   \n",
       "1                           married   49620   both    Midwest   \n",
       "2                           married  158302   both  Northeast   \n",
       "5                           married   57797   both       West   \n",
       "6  living with parents and siblings   34171   both      South   \n",
       "\n",
       "            activity_flag age_group          customer_profile  \n",
       "0  high-activity customer       65+  Married Without Children  \n",
       "1  high-activity customer       65+  Married Without Children  \n",
       "2  high-activity customer       65+     Married With Children  \n",
       "5  high-activity customer     41-54     Married With Children  \n",
       "6  high-activity customer     18-24       Living with Parents  "
      ]
     },
     "execution_count": 43,
     "metadata": {},
     "output_type": "execute_result"
    }
   ],
   "source": [
    "profiling_cust_data_filtered.head()"
   ]
  },
  {
   "cell_type": "code",
   "execution_count": null,
   "id": "587fb5f2-0642-49ea-aa82-784d5a921b72",
   "metadata": {},
   "outputs": [],
   "source": []
  }
 ],
 "metadata": {
  "kernelspec": {
   "display_name": "Python 3 (ipykernel)",
   "language": "python",
   "name": "python3"
  },
  "language_info": {
   "codemirror_mode": {
    "name": "ipython",
    "version": 3
   },
   "file_extension": ".py",
   "mimetype": "text/x-python",
   "name": "python",
   "nbconvert_exporter": "python",
   "pygments_lexer": "ipython3",
   "version": "3.12.4"
  }
 },
 "nbformat": 4,
 "nbformat_minor": 5
}
