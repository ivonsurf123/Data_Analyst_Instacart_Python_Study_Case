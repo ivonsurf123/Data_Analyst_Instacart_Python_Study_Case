{
 "cells": [
  {
   "cell_type": "markdown",
   "id": "1148722f-cd6d-4063-a724-ecab4fbff1fd",
   "metadata": {},
   "source": [
    "# 4.9 Intro to Data Visualization with Python"
   ]
  },
  {
   "cell_type": "code",
   "execution_count": 10,
   "id": "d3f97e85-7e26-4790-8ffe-51cda3b629ff",
   "metadata": {},
   "outputs": [],
   "source": [
    "# Import libraries\n",
    "import pandas as pd\n",
    "import numpy as np\n",
    "import os\n",
    "import matplotlib.pyplot as plt\n",
    "import seaborn as sns\n",
    "import scipy"
   ]
  },
  {
   "cell_type": "code",
   "execution_count": 12,
   "id": "55d7f6d1-1b9e-4f41-bf20-560a42a27af0",
   "metadata": {},
   "outputs": [],
   "source": [
    "# Change the format of the values visualization\n",
    "\n",
    "pd.options.display.float_format = '{:.2f}'.format"
   ]
  },
  {
   "cell_type": "code",
   "execution_count": 14,
   "id": "425c1fbd-9261-4047-947e-532d8358a0f3",
   "metadata": {},
   "outputs": [],
   "source": [
    "# Reset the maximum number of columns to display to default (all columns)\n",
    "\n",
    "pd.set_option('display.max_columns', None)"
   ]
  },
  {
   "cell_type": "code",
   "execution_count": 16,
   "id": "0487fe0a-aebe-49db-88b2-21000bbb1ace",
   "metadata": {},
   "outputs": [],
   "source": [
    "# Importing project data\n",
    "\n",
    "path = r'C:\\Users\\IVON6\\Instacart Basket Analysis'\n",
    "ords_prods_merge = pd.read_pickle(os.path.join(path, '02 Data', 'Prepared Data', 'ords_prods_grouped.pkl'))"
   ]
  },
  {
   "cell_type": "code",
   "execution_count": 18,
   "id": "cfa59ae4-0f0d-4a88-8643-64d8cd16a79e",
   "metadata": {},
   "outputs": [
    {
     "data": {
      "text/html": [
       "<div>\n",
       "<style scoped>\n",
       "    .dataframe tbody tr th:only-of-type {\n",
       "        vertical-align: middle;\n",
       "    }\n",
       "\n",
       "    .dataframe tbody tr th {\n",
       "        vertical-align: top;\n",
       "    }\n",
       "\n",
       "    .dataframe thead th {\n",
       "        text-align: right;\n",
       "    }\n",
       "</style>\n",
       "<table border=\"1\" class=\"dataframe\">\n",
       "  <thead>\n",
       "    <tr style=\"text-align: right;\">\n",
       "      <th></th>\n",
       "      <th>product_id</th>\n",
       "      <th>product_name</th>\n",
       "      <th>aisle_id</th>\n",
       "      <th>department_id</th>\n",
       "      <th>prices</th>\n",
       "      <th>order_id</th>\n",
       "      <th>user_id</th>\n",
       "      <th>order_number</th>\n",
       "      <th>orders_day_of_week</th>\n",
       "      <th>order_hour_of_day</th>\n",
       "      <th>days_since_prior_order</th>\n",
       "      <th>first_order</th>\n",
       "      <th>add_to_cart_order</th>\n",
       "      <th>reordered</th>\n",
       "      <th>_merge</th>\n",
       "      <th>price_range_loc</th>\n",
       "      <th>busiest_day</th>\n",
       "      <th>busiest_days</th>\n",
       "      <th>busiest_period_of_day</th>\n",
       "      <th>max_order</th>\n",
       "      <th>loyalty_flag</th>\n",
       "      <th>mean_price</th>\n",
       "      <th>spenders</th>\n",
       "      <th>median_days_since_prior_order</th>\n",
       "      <th>frequency_flag</th>\n",
       "    </tr>\n",
       "  </thead>\n",
       "  <tbody>\n",
       "    <tr>\n",
       "      <th>0</th>\n",
       "      <td>1</td>\n",
       "      <td>Chocolate Sandwich Cookies</td>\n",
       "      <td>61</td>\n",
       "      <td>19</td>\n",
       "      <td>5.80</td>\n",
       "      <td>3139998</td>\n",
       "      <td>138</td>\n",
       "      <td>28</td>\n",
       "      <td>6</td>\n",
       "      <td>11</td>\n",
       "      <td>3.00</td>\n",
       "      <td>False</td>\n",
       "      <td>5</td>\n",
       "      <td>0</td>\n",
       "      <td>both</td>\n",
       "      <td>Mid-range product</td>\n",
       "      <td>Regularly busy</td>\n",
       "      <td>Regularly busy</td>\n",
       "      <td>Most orders</td>\n",
       "      <td>32</td>\n",
       "      <td>Regular customer</td>\n",
       "      <td>6.94</td>\n",
       "      <td>Low spender</td>\n",
       "      <td>8.00</td>\n",
       "      <td>Frequent customer</td>\n",
       "    </tr>\n",
       "    <tr>\n",
       "      <th>1</th>\n",
       "      <td>1</td>\n",
       "      <td>Chocolate Sandwich Cookies</td>\n",
       "      <td>61</td>\n",
       "      <td>19</td>\n",
       "      <td>5.80</td>\n",
       "      <td>1977647</td>\n",
       "      <td>138</td>\n",
       "      <td>30</td>\n",
       "      <td>6</td>\n",
       "      <td>17</td>\n",
       "      <td>20.00</td>\n",
       "      <td>False</td>\n",
       "      <td>1</td>\n",
       "      <td>1</td>\n",
       "      <td>both</td>\n",
       "      <td>Mid-range product</td>\n",
       "      <td>Regularly busy</td>\n",
       "      <td>Regularly busy</td>\n",
       "      <td>Average orders</td>\n",
       "      <td>32</td>\n",
       "      <td>Regular customer</td>\n",
       "      <td>6.94</td>\n",
       "      <td>Low spender</td>\n",
       "      <td>8.00</td>\n",
       "      <td>Frequent customer</td>\n",
       "    </tr>\n",
       "    <tr>\n",
       "      <th>2</th>\n",
       "      <td>1</td>\n",
       "      <td>Chocolate Sandwich Cookies</td>\n",
       "      <td>61</td>\n",
       "      <td>19</td>\n",
       "      <td>5.80</td>\n",
       "      <td>389851</td>\n",
       "      <td>709</td>\n",
       "      <td>2</td>\n",
       "      <td>0</td>\n",
       "      <td>21</td>\n",
       "      <td>6.00</td>\n",
       "      <td>False</td>\n",
       "      <td>20</td>\n",
       "      <td>0</td>\n",
       "      <td>both</td>\n",
       "      <td>Mid-range product</td>\n",
       "      <td>Busiest day</td>\n",
       "      <td>Busiest days</td>\n",
       "      <td>Average orders</td>\n",
       "      <td>5</td>\n",
       "      <td>New customer</td>\n",
       "      <td>7.93</td>\n",
       "      <td>Low spender</td>\n",
       "      <td>8.00</td>\n",
       "      <td>Frequent customer</td>\n",
       "    </tr>\n",
       "    <tr>\n",
       "      <th>3</th>\n",
       "      <td>1</td>\n",
       "      <td>Chocolate Sandwich Cookies</td>\n",
       "      <td>61</td>\n",
       "      <td>19</td>\n",
       "      <td>5.80</td>\n",
       "      <td>652770</td>\n",
       "      <td>764</td>\n",
       "      <td>1</td>\n",
       "      <td>3</td>\n",
       "      <td>13</td>\n",
       "      <td>NaN</td>\n",
       "      <td>True</td>\n",
       "      <td>10</td>\n",
       "      <td>0</td>\n",
       "      <td>both</td>\n",
       "      <td>Mid-range product</td>\n",
       "      <td>Slowest day</td>\n",
       "      <td>Slowest days</td>\n",
       "      <td>Most orders</td>\n",
       "      <td>3</td>\n",
       "      <td>New customer</td>\n",
       "      <td>4.97</td>\n",
       "      <td>Low spender</td>\n",
       "      <td>9.00</td>\n",
       "      <td>Frequent customer</td>\n",
       "    </tr>\n",
       "    <tr>\n",
       "      <th>4</th>\n",
       "      <td>1</td>\n",
       "      <td>Chocolate Sandwich Cookies</td>\n",
       "      <td>61</td>\n",
       "      <td>19</td>\n",
       "      <td>5.80</td>\n",
       "      <td>1813452</td>\n",
       "      <td>764</td>\n",
       "      <td>3</td>\n",
       "      <td>4</td>\n",
       "      <td>17</td>\n",
       "      <td>9.00</td>\n",
       "      <td>False</td>\n",
       "      <td>11</td>\n",
       "      <td>1</td>\n",
       "      <td>both</td>\n",
       "      <td>Mid-range product</td>\n",
       "      <td>Slowest day</td>\n",
       "      <td>Slowest days</td>\n",
       "      <td>Average orders</td>\n",
       "      <td>3</td>\n",
       "      <td>New customer</td>\n",
       "      <td>4.97</td>\n",
       "      <td>Low spender</td>\n",
       "      <td>9.00</td>\n",
       "      <td>Frequent customer</td>\n",
       "    </tr>\n",
       "  </tbody>\n",
       "</table>\n",
       "</div>"
      ],
      "text/plain": [
       "   product_id                product_name  aisle_id  department_id  prices  \\\n",
       "0           1  Chocolate Sandwich Cookies        61             19    5.80   \n",
       "1           1  Chocolate Sandwich Cookies        61             19    5.80   \n",
       "2           1  Chocolate Sandwich Cookies        61             19    5.80   \n",
       "3           1  Chocolate Sandwich Cookies        61             19    5.80   \n",
       "4           1  Chocolate Sandwich Cookies        61             19    5.80   \n",
       "\n",
       "   order_id  user_id  order_number  orders_day_of_week  order_hour_of_day  \\\n",
       "0   3139998      138            28                   6                 11   \n",
       "1   1977647      138            30                   6                 17   \n",
       "2    389851      709             2                   0                 21   \n",
       "3    652770      764             1                   3                 13   \n",
       "4   1813452      764             3                   4                 17   \n",
       "\n",
       "   days_since_prior_order  first_order  add_to_cart_order  reordered _merge  \\\n",
       "0                    3.00        False                  5          0   both   \n",
       "1                   20.00        False                  1          1   both   \n",
       "2                    6.00        False                 20          0   both   \n",
       "3                     NaN         True                 10          0   both   \n",
       "4                    9.00        False                 11          1   both   \n",
       "\n",
       "     price_range_loc     busiest_day    busiest_days busiest_period_of_day  \\\n",
       "0  Mid-range product  Regularly busy  Regularly busy           Most orders   \n",
       "1  Mid-range product  Regularly busy  Regularly busy        Average orders   \n",
       "2  Mid-range product     Busiest day    Busiest days        Average orders   \n",
       "3  Mid-range product     Slowest day    Slowest days           Most orders   \n",
       "4  Mid-range product     Slowest day    Slowest days        Average orders   \n",
       "\n",
       "   max_order      loyalty_flag  mean_price     spenders  \\\n",
       "0         32  Regular customer        6.94  Low spender   \n",
       "1         32  Regular customer        6.94  Low spender   \n",
       "2          5      New customer        7.93  Low spender   \n",
       "3          3      New customer        4.97  Low spender   \n",
       "4          3      New customer        4.97  Low spender   \n",
       "\n",
       "   median_days_since_prior_order     frequency_flag  \n",
       "0                           8.00  Frequent customer  \n",
       "1                           8.00  Frequent customer  \n",
       "2                           8.00  Frequent customer  \n",
       "3                           9.00  Frequent customer  \n",
       "4                           9.00  Frequent customer  "
      ]
     },
     "execution_count": 18,
     "metadata": {},
     "output_type": "execute_result"
    }
   ],
   "source": [
    "# Checking the data\n",
    "\n",
    "ords_prods_merge.head()"
   ]
  },
  {
   "cell_type": "markdown",
   "id": "1a16d738-84ad-4c41-8bd3-f9d257faf4ff",
   "metadata": {},
   "source": [
    "## Creating Bar Charts"
   ]
  },
  {
   "cell_type": "code",
   "execution_count": 21,
   "id": "6068b0e0-c5df-40b8-a345-658dc682c368",
   "metadata": {},
   "outputs": [
    {
     "data": {
      "text/plain": [
       "<Axes: xlabel='orders_day_of_week'>"
      ]
     },
     "execution_count": 21,
     "metadata": {},
     "output_type": "execute_result"
    },
    {
     "data": {
      "image/png": "[encoded data removed]",
      "text/plain": [
       "<Figure size 640x480 with 1 Axes>"
      ]
     },
     "metadata": {},
     "output_type": "display_data"
    }
   ],
   "source": [
    "# Creating a bar chart for orders_days_of_week\n",
    "\n",
    "ords_prods_merge['orders_day_of_week'].value_counts().plot.bar()"
   ]
  },
  {
   "cell_type": "code",
   "execution_count": 25,
   "id": "2728df3d-d1fd-4e1a-bbd1-25e670e1de91",
   "metadata": {},
   "outputs": [
    {
     "data": {
      "text/plain": [
       "<Axes: xlabel='orders_day_of_week'>"
      ]
     },
     "execution_count": 25,
     "metadata": {},
     "output_type": "execute_result"
    },
    {
     "data": {
      "image/png": "[encoded data removed]",
      "text/plain": [
       "<Figure size 640x480 with 1 Axes>"
      ]
     },
     "metadata": {},
     "output_type": "display_data"
    }
   ],
   "source": [
    "# Sorting the values into logical order: The sort_index() function will sort the bars in your chart according to their index order\n",
    "# (rather than largest to smallest).\n",
    "\n",
    "ords_prods_merge['orders_day_of_week'].value_counts().sort_index().plot.bar()"
   ]
  },
  {
   "cell_type": "code",
   "execution_count": 27,
   "id": "6970470c-f9b0-4900-8afc-b14139197f97",
   "metadata": {},
   "outputs": [
    {
     "data": {
      "text/plain": [
       "orders_day_of_week\n",
       "0    6204182\n",
       "1    5660230\n",
       "6    4496490\n",
       "2    4213830\n",
       "5    4205791\n",
       "3    3840534\n",
       "4    3783802\n",
       "Name: count, dtype: int64"
      ]
     },
     "execution_count": 27,
     "metadata": {},
     "output_type": "execute_result"
    }
   ],
   "source": [
    "# Printing frequences (from max to min)\n",
    "\n",
    "ords_prods_merge['orders_day_of_week'].value_counts()"
   ]
  },
  {
   "cell_type": "code",
   "execution_count": 31,
   "id": "638660fc-959a-4e1a-ab63-057f439e07c0",
   "metadata": {},
   "outputs": [
    {
     "data": {
      "text/plain": [
       "orders_day_of_week\n",
       "0    6204182\n",
       "1    5660230\n",
       "2    4213830\n",
       "3    3840534\n",
       "4    3783802\n",
       "5    4205791\n",
       "6    4496490\n",
       "Name: count, dtype: int64"
      ]
     },
     "execution_count": 31,
     "metadata": {},
     "output_type": "execute_result"
    }
   ],
   "source": [
    "# Printing frequences as indexed order \n",
    "\n",
    "ords_prods_merge['orders_day_of_week'].value_counts().sort_index()"
   ]
  },
  {
   "cell_type": "code",
   "execution_count": 35,
   "id": "5e8b4607-c9a7-4a0e-a1ae-97433d492c49",
   "metadata": {},
   "outputs": [
    {
     "data": {
      "text/plain": [
       "<Axes: xlabel='orders_day_of_week'>"
      ]
     },
     "execution_count": 35,
     "metadata": {},
     "output_type": "execute_result"
    },
    {
     "data": {
      "image/png": "[encoded data removed]",
      "text/plain": [
       "<Figure size 640x480 with 1 Axes>"
      ]
     },
     "metadata": {},
     "output_type": "display_data"
    }
   ],
   "source": [
    "# Adding colors\n",
    "\n",
    "ords_prods_merge['orders_day_of_week'].value_counts().sort_index().plot.bar(color=['orange'])"
   ]
  },
  {
   "cell_type": "code",
   "execution_count": 45,
   "id": "072ed7c9-27a6-4cb1-b8d8-b51a11cb3103",
   "metadata": {},
   "outputs": [
    {
     "data": {
      "text/plain": [
       "<Axes: xlabel='orders_day_of_week'>"
      ]
     },
     "execution_count": 45,
     "metadata": {},
     "output_type": "execute_result"
    },
    {
     "data": {
      "image/png": "[encoded data removed]",
      "text/plain": [
       "<Figure size 640x480 with 1 Axes>"
      ]
     },
     "metadata": {},
     "output_type": "display_data"
    }
   ],
   "source": [
    "# Changing colors based on the count numbers\n",
    "\n",
    "counts = ords_prods_merge['orders_day_of_week'].value_counts().sort_index()\n",
    "colors = plt.cm.Greens(counts / counts.max())  # Using the 'Green' colormap and scaling counts to range [0, 1]\n",
    "\n",
    "counts.plot.bar(color=colors)"
   ]
  },
  {
   "cell_type": "code",
   "execution_count": 49,
   "id": "85a357d7-efa5-4276-b1cb-0a8cca2caf6e",
   "metadata": {},
   "outputs": [
    {
     "data": {
      "image/png": "[encoded data removed]",
      "text/plain": [
       "<Figure size 640x480 with 1 Axes>"
      ]
     },
     "metadata": {},
     "output_type": "display_data"
    }
   ],
   "source": [
    "# Making a final chart for export\n",
    "\n",
    "bar = ords_prods_merge['orders_day_of_week'].value_counts().plot.bar(color =colors)\n",
    "\n",
    "colors = plt.cm.Greens(counts / counts.max())  # Using the 'Green' colormap and scaling counts to range [0, 1]\n",
    "\n",
    "# Plotting the bar chart\n",
    "ax = counts.plot.bar(color=colors)\n",
    "\n",
    "# Adding title and labels to the plot\n",
    "ax.set_title(\"Counts of orders by day of the week\")\n",
    "ax.set_xlabel(\"Week Days\")\n",
    "ax.set_ylabel(\"Counts\")\n",
    "\n",
    "# Changing the tick labels for the x-axis\n",
    "day_labels = ['Saturday', 'Sunday', 'Monday', 'Tuesday', 'Wednesday', 'Thursday', 'Friday']\n",
    "ax.set_xticklabels(day_labels, rotation=0)\n",
    "\n",
    "# Showing the plot\n",
    "plt.show()"
   ]
  },
  {
   "cell_type": "code",
   "execution_count": 51,
   "id": "ada56f1b-54b4-4e7e-ba37-1c8c5a1c8fd0",
   "metadata": {},
   "outputs": [],
   "source": [
    "bar.figure.savefig(os.path.join(path, '02 Data','Visualizations', 'bar_orders_dow.png'))"
   ]
  },
  {
   "cell_type": "markdown",
   "id": "7b21e00f-bff1-477d-983d-972e9fc81852",
   "metadata": {},
   "source": [
    "## Creating Histograms and Scatterplots"
   ]
  },
  {
   "cell_type": "code",
   "execution_count": 54,
   "id": "7dfb1ca0-9ee9-451c-9149-72f479b16166",
   "metadata": {},
   "outputs": [
    {
     "data": {
      "text/plain": [
       "<Axes: ylabel='Frequency'>"
      ]
     },
     "execution_count": 54,
     "metadata": {},
     "output_type": "execute_result"
    },
    {
     "data": {
      "image/png": "[encoded data removed]",
      "text/plain": [
       "<Figure size 640x480 with 1 Axes>"
      ]
     },
     "metadata": {},
     "output_type": "display_data"
    }
   ],
   "source": [
    "# Creating a histogramm of the 'prices' column\n",
    "\n",
    "ords_prods_merge['prices'].plot.hist(bins = 25)"
   ]
  },
  {
   "cell_type": "code",
   "execution_count": 56,
   "id": "2b74a145-d652-4377-bb9f-bc9ada7a97bf",
   "metadata": {},
   "outputs": [
    {
     "data": {
      "text/plain": [
       "count   32404859.00\n",
       "mean          11.98\n",
       "std          495.66\n",
       "min            1.00\n",
       "25%            4.20\n",
       "50%            7.40\n",
       "75%           11.30\n",
       "max        99999.00\n",
       "Name: prices, dtype: float64"
      ]
     },
     "execution_count": 56,
     "metadata": {},
     "output_type": "execute_result"
    }
   ],
   "source": [
    "# Inspect the variable 'prices'\n",
    "\n",
    "ords_prods_merge['prices'].describe()"
   ]
  },
  {
   "cell_type": "code",
   "execution_count": 60,
   "id": "c424f3ad-554c-4835-9743-52b354d1a874",
   "metadata": {},
   "outputs": [
    {
     "data": {
      "text/plain": [
       "11.980225638383468"
      ]
     },
     "execution_count": 60,
     "metadata": {},
     "output_type": "execute_result"
    }
   ],
   "source": [
    "# Calculating the average value\n",
    "\n",
    "ords_prods_merge['prices'].mean()\n",
    "# Or '{:.2f}'.format(ords_prods_merge['prices'].mean()) --> to show only 11.98"
   ]
  },
  {
   "cell_type": "code",
   "execution_count": 62,
   "id": "457f3dcd-3429-41e8-b306-a62b3ce53087",
   "metadata": {},
   "outputs": [
    {
     "data": {
      "text/plain": [
       "7.4"
      ]
     },
     "execution_count": 62,
     "metadata": {},
     "output_type": "execute_result"
    }
   ],
   "source": [
    "# Calculating the median\n",
    "\n",
    "ords_prods_merge['prices'].median()"
   ]
  },
  {
   "cell_type": "code",
   "execution_count": 64,
   "id": "cf065401-aa16-4d7e-b271-aa359f61845d",
   "metadata": {},
   "outputs": [
    {
     "data": {
      "text/plain": [
       "99999.0"
      ]
     },
     "execution_count": 64,
     "metadata": {},
     "output_type": "execute_result"
    }
   ],
   "source": [
    "ords_prods_merge['prices'].max()"
   ]
  },
  {
   "cell_type": "code",
   "execution_count": 66,
   "id": "0a373ba7-0a0d-4e3f-9935-fcf23e7522d4",
   "metadata": {},
   "outputs": [
    {
     "data": {
      "text/plain": [
       "<Axes: xlabel='prices', ylabel='prices'>"
      ]
     },
     "execution_count": 66,
     "metadata": {},
     "output_type": "execute_result"
    },
    {
     "data": {
      "image/png": "[encoded data removed]",
      "text/plain": [
       "<Figure size 640x480 with 1 Axes>"
      ]
     },
     "metadata": {},
     "output_type": "display_data"
    }
   ],
   "source": [
    "# Plotting the “prices” column against itself\n",
    "\n",
    "sns.scatterplot(x = 'prices', y = 'prices',data = ords_prods_merge)"
   ]
  },
  {
   "cell_type": "code",
   "execution_count": 68,
   "id": "3b666e81-df82-45da-af5b-31d1b9f6905c",
   "metadata": {},
   "outputs": [
    {
     "data": {
      "text/html": [
       "<div>\n",
       "<style scoped>\n",
       "    .dataframe tbody tr th:only-of-type {\n",
       "        vertical-align: middle;\n",
       "    }\n",
       "\n",
       "    .dataframe tbody tr th {\n",
       "        vertical-align: top;\n",
       "    }\n",
       "\n",
       "    .dataframe thead th {\n",
       "        text-align: right;\n",
       "    }\n",
       "</style>\n",
       "<table border=\"1\" class=\"dataframe\">\n",
       "  <thead>\n",
       "    <tr style=\"text-align: right;\">\n",
       "      <th></th>\n",
       "      <th>product_id</th>\n",
       "      <th>product_name</th>\n",
       "      <th>aisle_id</th>\n",
       "      <th>department_id</th>\n",
       "      <th>prices</th>\n",
       "      <th>order_id</th>\n",
       "      <th>user_id</th>\n",
       "      <th>order_number</th>\n",
       "      <th>orders_day_of_week</th>\n",
       "      <th>order_hour_of_day</th>\n",
       "      <th>days_since_prior_order</th>\n",
       "      <th>first_order</th>\n",
       "      <th>add_to_cart_order</th>\n",
       "      <th>reordered</th>\n",
       "      <th>_merge</th>\n",
       "      <th>price_range_loc</th>\n",
       "      <th>busiest_day</th>\n",
       "      <th>busiest_days</th>\n",
       "      <th>busiest_period_of_day</th>\n",
       "      <th>max_order</th>\n",
       "      <th>loyalty_flag</th>\n",
       "      <th>mean_price</th>\n",
       "      <th>spenders</th>\n",
       "      <th>median_days_since_prior_order</th>\n",
       "      <th>frequency_flag</th>\n",
       "    </tr>\n",
       "  </thead>\n",
       "  <tbody>\n",
       "    <tr>\n",
       "      <th>13100147</th>\n",
       "      <td>21553</td>\n",
       "      <td>Lowfat 2% Milkfat Cottage Cheese</td>\n",
       "      <td>108</td>\n",
       "      <td>16</td>\n",
       "      <td>14900.00</td>\n",
       "      <td>912404</td>\n",
       "      <td>17</td>\n",
       "      <td>12</td>\n",
       "      <td>2</td>\n",
       "      <td>14</td>\n",
       "      <td>5.00</td>\n",
       "      <td>False</td>\n",
       "      <td>5</td>\n",
       "      <td>0</td>\n",
       "      <td>both</td>\n",
       "      <td>High-range product</td>\n",
       "      <td>Regularly busy</td>\n",
       "      <td>Regularly busy</td>\n",
       "      <td>Most orders</td>\n",
       "      <td>40</td>\n",
       "      <td>Regular customer</td>\n",
       "      <td>108.65</td>\n",
       "      <td>High spender</td>\n",
       "      <td>5.00</td>\n",
       "      <td>Frequent customer</td>\n",
       "    </tr>\n",
       "    <tr>\n",
       "      <th>13100148</th>\n",
       "      <td>21553</td>\n",
       "      <td>Lowfat 2% Milkfat Cottage Cheese</td>\n",
       "      <td>108</td>\n",
       "      <td>16</td>\n",
       "      <td>14900.00</td>\n",
       "      <td>603376</td>\n",
       "      <td>17</td>\n",
       "      <td>22</td>\n",
       "      <td>6</td>\n",
       "      <td>16</td>\n",
       "      <td>4.00</td>\n",
       "      <td>False</td>\n",
       "      <td>3</td>\n",
       "      <td>1</td>\n",
       "      <td>both</td>\n",
       "      <td>High-range product</td>\n",
       "      <td>Regularly busy</td>\n",
       "      <td>Regularly busy</td>\n",
       "      <td>Most orders</td>\n",
       "      <td>40</td>\n",
       "      <td>Regular customer</td>\n",
       "      <td>108.65</td>\n",
       "      <td>High spender</td>\n",
       "      <td>5.00</td>\n",
       "      <td>Frequent customer</td>\n",
       "    </tr>\n",
       "    <tr>\n",
       "      <th>13100149</th>\n",
       "      <td>21553</td>\n",
       "      <td>Lowfat 2% Milkfat Cottage Cheese</td>\n",
       "      <td>108</td>\n",
       "      <td>16</td>\n",
       "      <td>14900.00</td>\n",
       "      <td>3264360</td>\n",
       "      <td>135</td>\n",
       "      <td>2</td>\n",
       "      <td>2</td>\n",
       "      <td>21</td>\n",
       "      <td>13.00</td>\n",
       "      <td>False</td>\n",
       "      <td>6</td>\n",
       "      <td>0</td>\n",
       "      <td>both</td>\n",
       "      <td>High-range product</td>\n",
       "      <td>Regularly busy</td>\n",
       "      <td>Regularly busy</td>\n",
       "      <td>Average orders</td>\n",
       "      <td>4</td>\n",
       "      <td>New customer</td>\n",
       "      <td>1154.79</td>\n",
       "      <td>High spender</td>\n",
       "      <td>12.00</td>\n",
       "      <td>Regular customer</td>\n",
       "    </tr>\n",
       "    <tr>\n",
       "      <th>13100150</th>\n",
       "      <td>21553</td>\n",
       "      <td>Lowfat 2% Milkfat Cottage Cheese</td>\n",
       "      <td>108</td>\n",
       "      <td>16</td>\n",
       "      <td>14900.00</td>\n",
       "      <td>892534</td>\n",
       "      <td>135</td>\n",
       "      <td>3</td>\n",
       "      <td>0</td>\n",
       "      <td>8</td>\n",
       "      <td>12.00</td>\n",
       "      <td>False</td>\n",
       "      <td>3</td>\n",
       "      <td>1</td>\n",
       "      <td>both</td>\n",
       "      <td>High-range product</td>\n",
       "      <td>Busiest day</td>\n",
       "      <td>Busiest days</td>\n",
       "      <td>Average orders</td>\n",
       "      <td>4</td>\n",
       "      <td>New customer</td>\n",
       "      <td>1154.79</td>\n",
       "      <td>High spender</td>\n",
       "      <td>12.00</td>\n",
       "      <td>Regular customer</td>\n",
       "    </tr>\n",
       "    <tr>\n",
       "      <th>13100151</th>\n",
       "      <td>21553</td>\n",
       "      <td>Lowfat 2% Milkfat Cottage Cheese</td>\n",
       "      <td>108</td>\n",
       "      <td>16</td>\n",
       "      <td>14900.00</td>\n",
       "      <td>229704</td>\n",
       "      <td>342</td>\n",
       "      <td>8</td>\n",
       "      <td>1</td>\n",
       "      <td>19</td>\n",
       "      <td>30.00</td>\n",
       "      <td>False</td>\n",
       "      <td>9</td>\n",
       "      <td>0</td>\n",
       "      <td>both</td>\n",
       "      <td>High-range product</td>\n",
       "      <td>Busiest day</td>\n",
       "      <td>Busiest days</td>\n",
       "      <td>Average orders</td>\n",
       "      <td>16</td>\n",
       "      <td>Regular customer</td>\n",
       "      <td>114.43</td>\n",
       "      <td>High spender</td>\n",
       "      <td>23.00</td>\n",
       "      <td>Non-frequent customer</td>\n",
       "    </tr>\n",
       "    <tr>\n",
       "      <th>...</th>\n",
       "      <td>...</td>\n",
       "      <td>...</td>\n",
       "      <td>...</td>\n",
       "      <td>...</td>\n",
       "      <td>...</td>\n",
       "      <td>...</td>\n",
       "      <td>...</td>\n",
       "      <td>...</td>\n",
       "      <td>...</td>\n",
       "      <td>...</td>\n",
       "      <td>...</td>\n",
       "      <td>...</td>\n",
       "      <td>...</td>\n",
       "      <td>...</td>\n",
       "      <td>...</td>\n",
       "      <td>...</td>\n",
       "      <td>...</td>\n",
       "      <td>...</td>\n",
       "      <td>...</td>\n",
       "      <td>...</td>\n",
       "      <td>...</td>\n",
       "      <td>...</td>\n",
       "      <td>...</td>\n",
       "      <td>...</td>\n",
       "      <td>...</td>\n",
       "    </tr>\n",
       "    <tr>\n",
       "      <th>21786876</th>\n",
       "      <td>33664</td>\n",
       "      <td>2 % Reduced Fat  Milk</td>\n",
       "      <td>84</td>\n",
       "      <td>16</td>\n",
       "      <td>99999.00</td>\n",
       "      <td>2249946</td>\n",
       "      <td>204099</td>\n",
       "      <td>29</td>\n",
       "      <td>0</td>\n",
       "      <td>8</td>\n",
       "      <td>4.00</td>\n",
       "      <td>False</td>\n",
       "      <td>1</td>\n",
       "      <td>0</td>\n",
       "      <td>both</td>\n",
       "      <td>High-range product</td>\n",
       "      <td>Busiest day</td>\n",
       "      <td>Busiest days</td>\n",
       "      <td>Average orders</td>\n",
       "      <td>39</td>\n",
       "      <td>Regular customer</td>\n",
       "      <td>1106.74</td>\n",
       "      <td>High spender</td>\n",
       "      <td>4.00</td>\n",
       "      <td>Frequent customer</td>\n",
       "    </tr>\n",
       "    <tr>\n",
       "      <th>21786877</th>\n",
       "      <td>33664</td>\n",
       "      <td>2 % Reduced Fat  Milk</td>\n",
       "      <td>84</td>\n",
       "      <td>16</td>\n",
       "      <td>99999.00</td>\n",
       "      <td>2363282</td>\n",
       "      <td>204099</td>\n",
       "      <td>31</td>\n",
       "      <td>0</td>\n",
       "      <td>9</td>\n",
       "      <td>2.00</td>\n",
       "      <td>False</td>\n",
       "      <td>1</td>\n",
       "      <td>1</td>\n",
       "      <td>both</td>\n",
       "      <td>High-range product</td>\n",
       "      <td>Busiest day</td>\n",
       "      <td>Busiest days</td>\n",
       "      <td>Most orders</td>\n",
       "      <td>39</td>\n",
       "      <td>Regular customer</td>\n",
       "      <td>1106.74</td>\n",
       "      <td>High spender</td>\n",
       "      <td>4.00</td>\n",
       "      <td>Frequent customer</td>\n",
       "    </tr>\n",
       "    <tr>\n",
       "      <th>21786878</th>\n",
       "      <td>33664</td>\n",
       "      <td>2 % Reduced Fat  Milk</td>\n",
       "      <td>84</td>\n",
       "      <td>16</td>\n",
       "      <td>99999.00</td>\n",
       "      <td>3181945</td>\n",
       "      <td>204395</td>\n",
       "      <td>13</td>\n",
       "      <td>3</td>\n",
       "      <td>15</td>\n",
       "      <td>8.00</td>\n",
       "      <td>False</td>\n",
       "      <td>25</td>\n",
       "      <td>0</td>\n",
       "      <td>both</td>\n",
       "      <td>High-range product</td>\n",
       "      <td>Slowest day</td>\n",
       "      <td>Slowest days</td>\n",
       "      <td>Most orders</td>\n",
       "      <td>15</td>\n",
       "      <td>Regular customer</td>\n",
       "      <td>451.15</td>\n",
       "      <td>High spender</td>\n",
       "      <td>5.00</td>\n",
       "      <td>Frequent customer</td>\n",
       "    </tr>\n",
       "    <tr>\n",
       "      <th>21786879</th>\n",
       "      <td>33664</td>\n",
       "      <td>2 % Reduced Fat  Milk</td>\n",
       "      <td>84</td>\n",
       "      <td>16</td>\n",
       "      <td>99999.00</td>\n",
       "      <td>2486215</td>\n",
       "      <td>205227</td>\n",
       "      <td>7</td>\n",
       "      <td>3</td>\n",
       "      <td>20</td>\n",
       "      <td>4.00</td>\n",
       "      <td>False</td>\n",
       "      <td>8</td>\n",
       "      <td>0</td>\n",
       "      <td>both</td>\n",
       "      <td>High-range product</td>\n",
       "      <td>Slowest day</td>\n",
       "      <td>Slowest days</td>\n",
       "      <td>Average orders</td>\n",
       "      <td>12</td>\n",
       "      <td>Regular customer</td>\n",
       "      <td>1178.38</td>\n",
       "      <td>High spender</td>\n",
       "      <td>12.00</td>\n",
       "      <td>Regular customer</td>\n",
       "    </tr>\n",
       "    <tr>\n",
       "      <th>21786880</th>\n",
       "      <td>33664</td>\n",
       "      <td>2 % Reduced Fat  Milk</td>\n",
       "      <td>84</td>\n",
       "      <td>16</td>\n",
       "      <td>99999.00</td>\n",
       "      <td>2232716</td>\n",
       "      <td>205227</td>\n",
       "      <td>10</td>\n",
       "      <td>0</td>\n",
       "      <td>11</td>\n",
       "      <td>4.00</td>\n",
       "      <td>False</td>\n",
       "      <td>23</td>\n",
       "      <td>1</td>\n",
       "      <td>both</td>\n",
       "      <td>High-range product</td>\n",
       "      <td>Busiest day</td>\n",
       "      <td>Busiest days</td>\n",
       "      <td>Most orders</td>\n",
       "      <td>12</td>\n",
       "      <td>Regular customer</td>\n",
       "      <td>1178.38</td>\n",
       "      <td>High spender</td>\n",
       "      <td>12.00</td>\n",
       "      <td>Regular customer</td>\n",
       "    </tr>\n",
       "  </tbody>\n",
       "</table>\n",
       "<p>5127 rows × 25 columns</p>\n",
       "</div>"
      ],
      "text/plain": [
       "          product_id                      product_name  aisle_id  \\\n",
       "13100147       21553  Lowfat 2% Milkfat Cottage Cheese       108   \n",
       "13100148       21553  Lowfat 2% Milkfat Cottage Cheese       108   \n",
       "13100149       21553  Lowfat 2% Milkfat Cottage Cheese       108   \n",
       "13100150       21553  Lowfat 2% Milkfat Cottage Cheese       108   \n",
       "13100151       21553  Lowfat 2% Milkfat Cottage Cheese       108   \n",
       "...              ...                               ...       ...   \n",
       "21786876       33664             2 % Reduced Fat  Milk        84   \n",
       "21786877       33664             2 % Reduced Fat  Milk        84   \n",
       "21786878       33664             2 % Reduced Fat  Milk        84   \n",
       "21786879       33664             2 % Reduced Fat  Milk        84   \n",
       "21786880       33664             2 % Reduced Fat  Milk        84   \n",
       "\n",
       "          department_id   prices  order_id  user_id  order_number  \\\n",
       "13100147             16 14900.00    912404       17            12   \n",
       "13100148             16 14900.00    603376       17            22   \n",
       "13100149             16 14900.00   3264360      135             2   \n",
       "13100150             16 14900.00    892534      135             3   \n",
       "13100151             16 14900.00    229704      342             8   \n",
       "...                 ...      ...       ...      ...           ...   \n",
       "21786876             16 99999.00   2249946   204099            29   \n",
       "21786877             16 99999.00   2363282   204099            31   \n",
       "21786878             16 99999.00   3181945   204395            13   \n",
       "21786879             16 99999.00   2486215   205227             7   \n",
       "21786880             16 99999.00   2232716   205227            10   \n",
       "\n",
       "          orders_day_of_week  order_hour_of_day  days_since_prior_order  \\\n",
       "13100147                   2                 14                    5.00   \n",
       "13100148                   6                 16                    4.00   \n",
       "13100149                   2                 21                   13.00   \n",
       "13100150                   0                  8                   12.00   \n",
       "13100151                   1                 19                   30.00   \n",
       "...                      ...                ...                     ...   \n",
       "21786876                   0                  8                    4.00   \n",
       "21786877                   0                  9                    2.00   \n",
       "21786878                   3                 15                    8.00   \n",
       "21786879                   3                 20                    4.00   \n",
       "21786880                   0                 11                    4.00   \n",
       "\n",
       "          first_order  add_to_cart_order  reordered _merge  \\\n",
       "13100147        False                  5          0   both   \n",
       "13100148        False                  3          1   both   \n",
       "13100149        False                  6          0   both   \n",
       "13100150        False                  3          1   both   \n",
       "13100151        False                  9          0   both   \n",
       "...               ...                ...        ...    ...   \n",
       "21786876        False                  1          0   both   \n",
       "21786877        False                  1          1   both   \n",
       "21786878        False                 25          0   both   \n",
       "21786879        False                  8          0   both   \n",
       "21786880        False                 23          1   both   \n",
       "\n",
       "             price_range_loc     busiest_day    busiest_days  \\\n",
       "13100147  High-range product  Regularly busy  Regularly busy   \n",
       "13100148  High-range product  Regularly busy  Regularly busy   \n",
       "13100149  High-range product  Regularly busy  Regularly busy   \n",
       "13100150  High-range product     Busiest day    Busiest days   \n",
       "13100151  High-range product     Busiest day    Busiest days   \n",
       "...                      ...             ...             ...   \n",
       "21786876  High-range product     Busiest day    Busiest days   \n",
       "21786877  High-range product     Busiest day    Busiest days   \n",
       "21786878  High-range product     Slowest day    Slowest days   \n",
       "21786879  High-range product     Slowest day    Slowest days   \n",
       "21786880  High-range product     Busiest day    Busiest days   \n",
       "\n",
       "         busiest_period_of_day  max_order      loyalty_flag  mean_price  \\\n",
       "13100147           Most orders         40  Regular customer      108.65   \n",
       "13100148           Most orders         40  Regular customer      108.65   \n",
       "13100149        Average orders          4      New customer     1154.79   \n",
       "13100150        Average orders          4      New customer     1154.79   \n",
       "13100151        Average orders         16  Regular customer      114.43   \n",
       "...                        ...        ...               ...         ...   \n",
       "21786876        Average orders         39  Regular customer     1106.74   \n",
       "21786877           Most orders         39  Regular customer     1106.74   \n",
       "21786878           Most orders         15  Regular customer      451.15   \n",
       "21786879        Average orders         12  Regular customer     1178.38   \n",
       "21786880           Most orders         12  Regular customer     1178.38   \n",
       "\n",
       "              spenders  median_days_since_prior_order         frequency_flag  \n",
       "13100147  High spender                           5.00      Frequent customer  \n",
       "13100148  High spender                           5.00      Frequent customer  \n",
       "13100149  High spender                          12.00       Regular customer  \n",
       "13100150  High spender                          12.00       Regular customer  \n",
       "13100151  High spender                          23.00  Non-frequent customer  \n",
       "...                ...                            ...                    ...  \n",
       "21786876  High spender                           4.00      Frequent customer  \n",
       "21786877  High spender                           4.00      Frequent customer  \n",
       "21786878  High spender                           5.00      Frequent customer  \n",
       "21786879  High spender                          12.00       Regular customer  \n",
       "21786880  High spender                          12.00       Regular customer  \n",
       "\n",
       "[5127 rows x 25 columns]"
      ]
     },
     "execution_count": 68,
     "metadata": {},
     "output_type": "execute_result"
    }
   ],
   "source": [
    "# Check the ouliers where the price is above 100$\n",
    "\n",
    "ords_prods_merge.loc[ords_prods_merge['prices'] > 100]"
   ]
  },
  {
   "cell_type": "code",
   "execution_count": 70,
   "id": "6b716887-1a62-433e-8880-60c765a40a8f",
   "metadata": {},
   "outputs": [],
   "source": [
    "# Turning the unexpected values to NaN\n",
    "\n",
    "ords_prods_merge.loc[ords_prods_merge['prices'] >100, 'prices'] = np.nan"
   ]
  },
  {
   "cell_type": "code",
   "execution_count": 72,
   "id": "6458bb8d-5855-4238-9224-e7853aa94522",
   "metadata": {},
   "outputs": [
    {
     "data": {
      "text/plain": [
       "25.0"
      ]
     },
     "execution_count": 72,
     "metadata": {},
     "output_type": "execute_result"
    }
   ],
   "source": [
    "# Checking the max value after excluding outliers\n",
    "\n",
    "ords_prods_merge['prices'].max()"
   ]
  },
  {
   "cell_type": "code",
   "execution_count": 74,
   "id": "c5dd6579-8a16-4dc9-a664-6f8bac2058d6",
   "metadata": {},
   "outputs": [
    {
     "data": {
      "text/plain": [
       "<Axes: ylabel='Frequency'>"
      ]
     },
     "execution_count": 74,
     "metadata": {},
     "output_type": "execute_result"
    },
    {
     "data": {
      "image/png": "[encoded data removed]",
      "text/plain": [
       "<Figure size 640x480 with 1 Axes>"
      ]
     },
     "metadata": {},
     "output_type": "display_data"
    }
   ],
   "source": [
    "# New histogramm after excluding outliers\n",
    "\n",
    "ords_prods_merge['prices'].plot.hist(bins = 25)"
   ]
  },
  {
   "cell_type": "code",
   "execution_count": 76,
   "id": "a8b11804-a9ae-4e73-aa17-271d9df5f44a",
   "metadata": {},
   "outputs": [
    {
     "data": {
      "image/png": "[encoded data removed]",
      "text/plain": [
       "<Figure size 640x480 with 1 Axes>"
      ]
     },
     "metadata": {},
     "output_type": "display_data"
    }
   ],
   "source": [
    "# Exploring a more detailled histogram\n",
    "\n",
    "hist = ords_prods_merge['prices'].plot.hist(bins = 70)\n",
    "\n",
    "# Adding title and labels to the histogram\n",
    "\n",
    "plt.title(\" Frequency of Market Prices in $\")\n",
    "plt.xlabel(\"Price in $\")\n",
    "plt.ylabel(\"Frequency\")\n",
    "\n",
    "# Show the histogram\n",
    "plt.show()"
   ]
  },
  {
   "cell_type": "code",
   "execution_count": 78,
   "id": "8bb63313-0c88-40cb-b49c-d75d42c915e8",
   "metadata": {},
   "outputs": [],
   "source": [
    "# Exporting a histogramm\n",
    "\n",
    "hist.figure.savefig(os.path.join(path, '02 Data','Visualizations', 'histogram_prices.png'))"
   ]
  },
  {
   "cell_type": "markdown",
   "id": "57d64c5c-080c-44e2-b1e2-509ec7113046",
   "metadata": {},
   "source": [
    "## Creating Line Charts"
   ]
  },
  {
   "cell_type": "code",
   "execution_count": 81,
   "id": "00ef8cdf-a500-4b65-b2cc-c3871cc0ea45",
   "metadata": {},
   "outputs": [],
   "source": [
    "# plot the “orders_day_of_week” column on the x-axis and the “prices” column on the y-axis"
   ]
  },
  {
   "cell_type": "code",
   "execution_count": 83,
   "id": "be0c491b-cdf0-47b7-93dc-e46dc8792a1e",
   "metadata": {},
   "outputs": [],
   "source": [
    "# Machine Learning example: Training a model - 80 % of a data set to train the algorithm\n",
    "# Remaining 20 percent to check the accuracy of the model\n",
    "# Creating these samples requires a list of random floating numbers between 0 and 1 (1 --> 100%) => 0.7 --> to split 70/30"
   ]
  },
  {
   "cell_type": "code",
   "execution_count": 85,
   "id": "1e335e25-8751-41a4-b906-894c69dc31e7",
   "metadata": {},
   "outputs": [],
   "source": [
    "# Creating a random seeed\n",
    "\n",
    "np.random.seed(4)\n",
    "\n",
    "# Creating a list holding True/False values to the test np.random.rant() <= 0.7\n",
    "dev = np.random.rand(len(ords_prods_merge)) <= 0.7"
   ]
  },
  {
   "cell_type": "code",
   "execution_count": 87,
   "id": "baa63b28-9147-4064-b7af-356b2feec398",
   "metadata": {},
   "outputs": [
    {
     "data": {
      "text/plain": [
       "array([False,  True, False, ...,  True,  True,  True])"
      ]
     },
     "execution_count": 87,
     "metadata": {},
     "output_type": "execute_result"
    }
   ],
   "source": [
    "# Checking the boolean values\n",
    "\n",
    "dev"
   ]
  },
  {
   "cell_type": "code",
   "execution_count": 95,
   "id": "0db8ed5e-2bf6-4476-8275-286f83f64b19",
   "metadata": {},
   "outputs": [],
   "source": [
    "# Split the dataframe into two samples\n",
    "\n",
    "big = ords_prods_merge[dev] # store 70% of the sample in the df big\n",
    "small = ords_prods_merge[~dev] # store 30% of the sample in the df small"
   ]
  },
  {
   "cell_type": "code",
   "execution_count": 97,
   "id": "74ad7f99-7824-4e12-893e-a4e83420634c",
   "metadata": {},
   "outputs": [
    {
     "data": {
      "text/plain": [
       "32404859"
      ]
     },
     "execution_count": 97,
     "metadata": {},
     "output_type": "execute_result"
    }
   ],
   "source": [
    "# Calculating the lenght of the whole df\n",
    "\n",
    "len(ords_prods_merge)"
   ]
  },
  {
   "cell_type": "code",
   "execution_count": 99,
   "id": "a2ab379e-1f6e-4c92-8a54-0a9be94e700f",
   "metadata": {},
   "outputs": [
    {
     "data": {
      "text/plain": [
       "32404859"
      ]
     },
     "execution_count": 99,
     "metadata": {},
     "output_type": "execute_result"
    }
   ],
   "source": [
    "# Comparing the results of the lenght of the whole dataframe with sum of both subsets\n",
    "\n",
    "len(big)+len(small)"
   ]
  },
  {
   "cell_type": "code",
   "execution_count": 101,
   "id": "d037a9ee-cc2c-470a-82ab-c8fc9f559a83",
   "metadata": {},
   "outputs": [],
   "source": [
    "# Reducing the number of columns to the number that is necessary\n",
    "\n",
    "df_2 = small[['orders_day_of_week','prices']]"
   ]
  },
  {
   "cell_type": "code",
   "execution_count": 103,
   "id": "01081e53-1bae-4d5e-b3a2-a64f11e946a5",
   "metadata": {},
   "outputs": [
    {
     "data": {
      "image/png": "[encoded data removed]",
      "text/plain": [
       "<Figure size 640x480 with 1 Axes>"
      ]
     },
     "metadata": {},
     "output_type": "display_data"
    }
   ],
   "source": [
    "# Creating a line chart \n",
    "\n",
    "line = sns.lineplot(data = df_2, x = 'orders_day_of_week',y = 'prices')\n",
    "\n",
    "# Adding title and labels to the line chart\n",
    "\n",
    "plt.title(\"Price Trends by Weekdays\")\n",
    "plt.xlabel(\"Day of the Week\")\n",
    "plt.ylabel(\"Prices\")\n",
    "\n",
    "# Show the histogram\n",
    "plt.show()"
   ]
  },
  {
   "cell_type": "code",
   "execution_count": 105,
   "id": "e39d4380-242e-47b3-b5be-6e0a0150d449",
   "metadata": {},
   "outputs": [],
   "source": [
    "# Exporting a Line chart\n",
    "\n",
    "line.figure.savefig(os.path.join(path, '02 Data','Visualizations', 'lineChart_price_by_day.png'))"
   ]
  },
  {
   "cell_type": "code",
   "execution_count": null,
   "id": "60907f2a-f3ac-442f-a647-db7897a383df",
   "metadata": {},
   "outputs": [],
   "source": []
  }
 ],
 "metadata": {
  "kernelspec": {
   "display_name": "Python 3 (ipykernel)",
   "language": "python",
   "name": "python3"
  },
  "language_info": {
   "codemirror_mode": {
    "name": "ipython",
    "version": 3
   },
   "file_extension": ".py",
   "mimetype": "text/x-python",
   "name": "python",
   "nbconvert_exporter": "python",
   "pygments_lexer": "ipython3",
   "version": "3.12.4"
  }
 },
 "nbformat": 4,
 "nbformat_minor": 5
}
