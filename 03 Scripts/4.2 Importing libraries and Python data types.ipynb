{
 "cells": [
  {
   "cell_type": "markdown",
   "id": "fb1bca7b-67da-44ae-9046-2176ea41a1af",
   "metadata": {},
   "source": [
    "# Importing libraries"
   ]
  },
  {
   "cell_type": "code",
   "execution_count": 1,
   "id": "13679cfd-cbb8-45fe-a05d-68e12abf12cc",
   "metadata": {},
   "outputs": [],
   "source": [
    "# Import Libraries\n",
    "import pandas as pd\n",
    "import numpy as np\n",
    "import os"
   ]
  },
  {
   "cell_type": "markdown",
   "id": "d01e74e4-f0c4-4b97-b1de-42eb0d812f91",
   "metadata": {},
   "source": [
    "# Python Data Types"
   ]
  },
  {
   "cell_type": "code",
   "execution_count": 1,
   "id": "3e8da05d-965c-4945-b5eb-f1fedad8bf29",
   "metadata": {},
   "outputs": [
    {
     "name": "stdout",
     "output_type": "stream",
     "text": [
      "100\n"
     ]
    }
   ],
   "source": [
    "a = 65\n",
    "b = 35\n",
    "\n",
    "print(a + b)"
   ]
  },
  {
   "cell_type": "code",
   "execution_count": 3,
   "id": "d3f4670c-38ad-4500-8365-6cbb53ca9aac",
   "metadata": {},
   "outputs": [
    {
     "name": "stdout",
     "output_type": "stream",
     "text": [
      "100\n"
     ]
    }
   ],
   "source": [
    "x = 50\n",
    "print(x +50)"
   ]
  },
  {
   "cell_type": "code",
   "execution_count": 7,
   "id": "fb48347a-30c0-47df-aa87-af2ee63f3b56",
   "metadata": {},
   "outputs": [
    {
     "name": "stdout",
     "output_type": "stream",
     "text": [
      "100\n"
     ]
    }
   ],
   "source": [
    "c = -50\n",
    "d = 150\n",
    "\n",
    "print(c + d)"
   ]
  },
  {
   "cell_type": "code",
   "execution_count": 9,
   "id": "492ce088-44f9-4a9d-b2c1-eedfccb5c0f5",
   "metadata": {},
   "outputs": [
    {
     "name": "stdout",
     "output_type": "stream",
     "text": [
      "2.037037037037037\n"
     ]
    }
   ],
   "source": [
    "m = 16.5\n",
    "n = 8.1\n",
    "\n",
    "print(m / n)"
   ]
  },
  {
   "cell_type": "code",
   "execution_count": 11,
   "id": "d9489f18-7440-4779-9bd3-3510ac8de755",
   "metadata": {},
   "outputs": [],
   "source": [
    "y = 5.678"
   ]
  },
  {
   "cell_type": "code",
   "execution_count": 13,
   "id": "5faa7efb-d316-44e7-95ff-67c07256e18a",
   "metadata": {},
   "outputs": [
    {
     "data": {
      "text/plain": [
       "float"
      ]
     },
     "execution_count": 13,
     "metadata": {},
     "output_type": "execute_result"
    }
   ],
   "source": [
    "type(y)"
   ]
  },
  {
   "cell_type": "code",
   "execution_count": 19,
   "id": "861b1044-19c8-47e4-a361-baac97f18a64",
   "metadata": {},
   "outputs": [
    {
     "name": "stdout",
     "output_type": "stream",
     "text": [
      "Python is cool!\n"
     ]
    }
   ],
   "source": [
    "a = 'Python'\n",
    "b = ' is' \n",
    "c = ' cool!' \n",
    "print(a + b + c) "
   ]
  },
  {
   "cell_type": "code",
   "execution_count": 25,
   "id": "ce2d641a-5342-463e-8e5f-4ac5c711dea2",
   "metadata": {},
   "outputs": [
    {
     "name": "stdout",
     "output_type": "stream",
     "text": [
      "Hello World, Today is an Awesome day to be at the Beach!\n"
     ]
    }
   ],
   "source": [
    "d= 'Hello World,'\n",
    "e = 'Today is an Awesome day'\n",
    "f = 'to be at the Beach!'\n",
    "combined_string = d + \" \" + e + \" \" + f\n",
    "print(combined_string)"
   ]
  },
  {
   "cell_type": "markdown",
   "id": "1e0b3bbe-7a48-40cc-9ea3-4c54c1b215fd",
   "metadata": {},
   "source": [
    "# Bonus Track"
   ]
  },
  {
   "cell_type": "code",
   "execution_count": 29,
   "id": "34ec9743-eab5-4ab2-aa4f-982f4bff7ec3",
   "metadata": {},
   "outputs": [
    {
     "name": "stdout",
     "output_type": "stream",
     "text": [
      "Hello! \n",
      "Hello! \n",
      "Hello! \n",
      "Hello! \n",
      "Hello! \n",
      "Hello! \n",
      "Hello! \n",
      "Hello! \n",
      "Hello! \n",
      "Hello! \n",
      "Hello! \n",
      "Hello! \n",
      "Hello! \n",
      "Hello! \n",
      "Hello! \n",
      "Hello! \n",
      "Hello! \n",
      "Hello! \n",
      "Hello! \n",
      "Hello! \n",
      "Hello! \n",
      "Hello! \n",
      "Hello! \n",
      "Hello! \n",
      "Hello! \n",
      "Hello! \n",
      "Hello! \n",
      "Hello! \n",
      "Hello! \n",
      "Hello! \n",
      "Hello! \n",
      "Hello! \n",
      "Hello! \n",
      "Hello! \n",
      "Hello! \n",
      "Hello! \n",
      "Hello! \n",
      "Hello! \n",
      "Hello! \n",
      "Hello! \n",
      "Hello! \n",
      "Hello! \n",
      "Hello! \n",
      "Hello! \n",
      "Hello! \n",
      "Hello! \n",
      "Hello! \n",
      "Hello! \n",
      "Hello! \n",
      "Hello! \n",
      "Hello! \n",
      "Hello! \n",
      "Hello! \n",
      "Hello! \n",
      "Hello! \n",
      "Hello! \n",
      "Hello! \n",
      "Hello! \n",
      "Hello! \n",
      "Hello! \n",
      "Hello! \n",
      "Hello! \n",
      "Hello! \n",
      "Hello! \n",
      "Hello! \n",
      "Hello! \n",
      "Hello! \n",
      "Hello! \n",
      "Hello! \n",
      "Hello! \n",
      "Hello! \n",
      "Hello! \n",
      "Hello! \n",
      "Hello! \n",
      "Hello! \n",
      "Hello! \n",
      "Hello! \n",
      "Hello! \n",
      "Hello! \n",
      "Hello! \n",
      "Hello! \n",
      "Hello! \n",
      "Hello! \n",
      "Hello! \n",
      "Hello! \n",
      "Hello! \n",
      "Hello! \n",
      "Hello! \n",
      "Hello! \n",
      "Hello! \n",
      "Hello! \n",
      "Hello! \n",
      "Hello! \n",
      "Hello! \n",
      "Hello! \n",
      "Hello! \n",
      "Hello! \n",
      "Hello! \n",
      "Hello! \n",
      "Hello! \n",
      "\n"
     ]
    }
   ],
   "source": [
    "print('Hello! \\n' * 100)"
   ]
  }
 ],
 "metadata": {
  "kernelspec": {
   "display_name": "Python 3 (ipykernel)",
   "language": "python",
   "name": "python3"
  },
  "language_info": {
   "codemirror_mode": {
    "name": "ipython",
    "version": 3
   },
   "file_extension": ".py",
   "mimetype": "text/x-python",
   "name": "python",
   "nbconvert_exporter": "python",
   "pygments_lexer": "ipython3",
   "version": "3.12.4"
  }
 },
 "nbformat": 4,
 "nbformat_minor": 5
}
