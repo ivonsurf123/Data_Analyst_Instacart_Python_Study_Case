{
 "cells": [
  {
   "cell_type": "markdown",
   "id": "a57f13ac-3e51-43bc-9e6d-6b423a6bc87f",
   "metadata": {},
   "source": [
    "# 4.9 Intro to Data Visualization with Python_C"
   ]
  },
  {
   "cell_type": "markdown",
   "id": "1a31b82c-cb68-4561-a871-1d20b131b927",
   "metadata": {},
   "source": [
    "## Part 2"
   ]
  },
  {
   "cell_type": "code",
   "execution_count": 3,
   "id": "a2c06c7b-e473-44ed-92f8-f6eb71193a55",
   "metadata": {},
   "outputs": [],
   "source": [
    "# Importing libraries\n",
    "\n",
    "import pandas as pd\n",
    "import numpy as np\n",
    "import os\n",
    "import matplotlib.pyplot as plt\n",
    "import seaborn as sns\n",
    "import scipy"
   ]
  },
  {
   "cell_type": "code",
   "execution_count": 5,
   "id": "a90a0f55-5ab3-456a-86e9-822222c0c637",
   "metadata": {},
   "outputs": [],
   "source": [
    "# Changing the format of the values visualization\n",
    "\n",
    "pd.options.display.float_format = '{:.2f}'.format"
   ]
  },
  {
   "cell_type": "code",
   "execution_count": 7,
   "id": "e30debc8-ac16-4fb8-a119-0a943b6ef7f0",
   "metadata": {},
   "outputs": [],
   "source": [
    "# Reseting the maximum number of columns to display to default (all columns)\n",
    "\n",
    "pd.set_option('display.max_columns', None)"
   ]
  },
  {
   "cell_type": "code",
   "execution_count": 9,
   "id": "0024b6b7-cd24-4f8b-a967-f125dec414d0",
   "metadata": {},
   "outputs": [],
   "source": [
    "# Importing project data\n",
    "\n",
    "path = r'C:\\Users\\IVON6\\Instacart Basket Analysis'\n",
    "merged_all = pd.read_pickle(os.path.join(path, '02 Data', 'Prepared Data', 'ords_prods_cust_merged.pkl'))"
   ]
  },
  {
   "cell_type": "code",
   "execution_count": 11,
   "id": "e3e158bb-f26a-4304-a8f2-0584eb10081f",
   "metadata": {},
   "outputs": [
    {
     "data": {
      "text/html": [
       "<div>\n",
       "<style scoped>\n",
       "    .dataframe tbody tr th:only-of-type {\n",
       "        vertical-align: middle;\n",
       "    }\n",
       "\n",
       "    .dataframe tbody tr th {\n",
       "        vertical-align: top;\n",
       "    }\n",
       "\n",
       "    .dataframe thead th {\n",
       "        text-align: right;\n",
       "    }\n",
       "</style>\n",
       "<table border=\"1\" class=\"dataframe\">\n",
       "  <thead>\n",
       "    <tr style=\"text-align: right;\">\n",
       "      <th></th>\n",
       "      <th>product_id</th>\n",
       "      <th>product_name</th>\n",
       "      <th>aisle_id</th>\n",
       "      <th>department_id</th>\n",
       "      <th>prices</th>\n",
       "      <th>order_id</th>\n",
       "      <th>user_id</th>\n",
       "      <th>order_number</th>\n",
       "      <th>orders_day_of_week</th>\n",
       "      <th>order_hour_of_day</th>\n",
       "      <th>days_since_prior_order</th>\n",
       "      <th>first_order</th>\n",
       "      <th>add_to_cart_order</th>\n",
       "      <th>reordered</th>\n",
       "      <th>price_range_loc</th>\n",
       "      <th>busiest_day</th>\n",
       "      <th>busiest_days</th>\n",
       "      <th>busiest_period_of_day</th>\n",
       "      <th>max_order</th>\n",
       "      <th>loyalty_flag</th>\n",
       "      <th>mean_price</th>\n",
       "      <th>spenders</th>\n",
       "      <th>median_days_since_prior_order</th>\n",
       "      <th>frequency_flag</th>\n",
       "      <th>last_name</th>\n",
       "      <th>gender</th>\n",
       "      <th>state</th>\n",
       "      <th>age</th>\n",
       "      <th>date_joined</th>\n",
       "      <th>num_dependants</th>\n",
       "      <th>marital_status</th>\n",
       "      <th>income</th>\n",
       "      <th>_merge</th>\n",
       "    </tr>\n",
       "  </thead>\n",
       "  <tbody>\n",
       "    <tr>\n",
       "      <th>0</th>\n",
       "      <td>1</td>\n",
       "      <td>Chocolate Sandwich Cookies</td>\n",
       "      <td>61</td>\n",
       "      <td>19</td>\n",
       "      <td>5.80</td>\n",
       "      <td>3139998</td>\n",
       "      <td>138</td>\n",
       "      <td>28</td>\n",
       "      <td>6</td>\n",
       "      <td>11</td>\n",
       "      <td>3.00</td>\n",
       "      <td>False</td>\n",
       "      <td>5</td>\n",
       "      <td>0</td>\n",
       "      <td>Mid-range product</td>\n",
       "      <td>Regularly busy</td>\n",
       "      <td>Regularly busy</td>\n",
       "      <td>Most orders</td>\n",
       "      <td>32</td>\n",
       "      <td>Regular customer</td>\n",
       "      <td>6.94</td>\n",
       "      <td>Low spender</td>\n",
       "      <td>8.00</td>\n",
       "      <td>Frequent customer</td>\n",
       "      <td>Cox</td>\n",
       "      <td>Male</td>\n",
       "      <td>Minnesota</td>\n",
       "      <td>81</td>\n",
       "      <td>8/1/2019</td>\n",
       "      <td>1</td>\n",
       "      <td>married</td>\n",
       "      <td>49620</td>\n",
       "      <td>both</td>\n",
       "    </tr>\n",
       "    <tr>\n",
       "      <th>1</th>\n",
       "      <td>1</td>\n",
       "      <td>Chocolate Sandwich Cookies</td>\n",
       "      <td>61</td>\n",
       "      <td>19</td>\n",
       "      <td>5.80</td>\n",
       "      <td>1977647</td>\n",
       "      <td>138</td>\n",
       "      <td>30</td>\n",
       "      <td>6</td>\n",
       "      <td>17</td>\n",
       "      <td>20.00</td>\n",
       "      <td>False</td>\n",
       "      <td>1</td>\n",
       "      <td>1</td>\n",
       "      <td>Mid-range product</td>\n",
       "      <td>Regularly busy</td>\n",
       "      <td>Regularly busy</td>\n",
       "      <td>Average orders</td>\n",
       "      <td>32</td>\n",
       "      <td>Regular customer</td>\n",
       "      <td>6.94</td>\n",
       "      <td>Low spender</td>\n",
       "      <td>8.00</td>\n",
       "      <td>Frequent customer</td>\n",
       "      <td>Cox</td>\n",
       "      <td>Male</td>\n",
       "      <td>Minnesota</td>\n",
       "      <td>81</td>\n",
       "      <td>8/1/2019</td>\n",
       "      <td>1</td>\n",
       "      <td>married</td>\n",
       "      <td>49620</td>\n",
       "      <td>both</td>\n",
       "    </tr>\n",
       "    <tr>\n",
       "      <th>2</th>\n",
       "      <td>1</td>\n",
       "      <td>Chocolate Sandwich Cookies</td>\n",
       "      <td>61</td>\n",
       "      <td>19</td>\n",
       "      <td>5.80</td>\n",
       "      <td>389851</td>\n",
       "      <td>709</td>\n",
       "      <td>2</td>\n",
       "      <td>0</td>\n",
       "      <td>21</td>\n",
       "      <td>6.00</td>\n",
       "      <td>False</td>\n",
       "      <td>20</td>\n",
       "      <td>0</td>\n",
       "      <td>Mid-range product</td>\n",
       "      <td>Busiest day</td>\n",
       "      <td>Busiest days</td>\n",
       "      <td>Average orders</td>\n",
       "      <td>5</td>\n",
       "      <td>New customer</td>\n",
       "      <td>7.93</td>\n",
       "      <td>Low spender</td>\n",
       "      <td>8.00</td>\n",
       "      <td>Frequent customer</td>\n",
       "      <td>Glass</td>\n",
       "      <td>Female</td>\n",
       "      <td>Vermont</td>\n",
       "      <td>66</td>\n",
       "      <td>6/16/2018</td>\n",
       "      <td>2</td>\n",
       "      <td>married</td>\n",
       "      <td>158302</td>\n",
       "      <td>both</td>\n",
       "    </tr>\n",
       "    <tr>\n",
       "      <th>3</th>\n",
       "      <td>1</td>\n",
       "      <td>Chocolate Sandwich Cookies</td>\n",
       "      <td>61</td>\n",
       "      <td>19</td>\n",
       "      <td>5.80</td>\n",
       "      <td>652770</td>\n",
       "      <td>764</td>\n",
       "      <td>1</td>\n",
       "      <td>3</td>\n",
       "      <td>13</td>\n",
       "      <td>NaN</td>\n",
       "      <td>True</td>\n",
       "      <td>10</td>\n",
       "      <td>0</td>\n",
       "      <td>Mid-range product</td>\n",
       "      <td>Slowest day</td>\n",
       "      <td>Slowest days</td>\n",
       "      <td>Most orders</td>\n",
       "      <td>3</td>\n",
       "      <td>New customer</td>\n",
       "      <td>4.97</td>\n",
       "      <td>Low spender</td>\n",
       "      <td>9.00</td>\n",
       "      <td>Frequent customer</td>\n",
       "      <td>Myers</td>\n",
       "      <td>Female</td>\n",
       "      <td>Wisconsin</td>\n",
       "      <td>40</td>\n",
       "      <td>2/9/2020</td>\n",
       "      <td>3</td>\n",
       "      <td>married</td>\n",
       "      <td>31308</td>\n",
       "      <td>both</td>\n",
       "    </tr>\n",
       "    <tr>\n",
       "      <th>4</th>\n",
       "      <td>1</td>\n",
       "      <td>Chocolate Sandwich Cookies</td>\n",
       "      <td>61</td>\n",
       "      <td>19</td>\n",
       "      <td>5.80</td>\n",
       "      <td>1813452</td>\n",
       "      <td>764</td>\n",
       "      <td>3</td>\n",
       "      <td>4</td>\n",
       "      <td>17</td>\n",
       "      <td>9.00</td>\n",
       "      <td>False</td>\n",
       "      <td>11</td>\n",
       "      <td>1</td>\n",
       "      <td>Mid-range product</td>\n",
       "      <td>Slowest day</td>\n",
       "      <td>Slowest days</td>\n",
       "      <td>Average orders</td>\n",
       "      <td>3</td>\n",
       "      <td>New customer</td>\n",
       "      <td>4.97</td>\n",
       "      <td>Low spender</td>\n",
       "      <td>9.00</td>\n",
       "      <td>Frequent customer</td>\n",
       "      <td>Myers</td>\n",
       "      <td>Female</td>\n",
       "      <td>Wisconsin</td>\n",
       "      <td>40</td>\n",
       "      <td>2/9/2020</td>\n",
       "      <td>3</td>\n",
       "      <td>married</td>\n",
       "      <td>31308</td>\n",
       "      <td>both</td>\n",
       "    </tr>\n",
       "  </tbody>\n",
       "</table>\n",
       "</div>"
      ],
      "text/plain": [
       "   product_id                product_name  aisle_id  department_id  prices  \\\n",
       "0           1  Chocolate Sandwich Cookies        61             19    5.80   \n",
       "1           1  Chocolate Sandwich Cookies        61             19    5.80   \n",
       "2           1  Chocolate Sandwich Cookies        61             19    5.80   \n",
       "3           1  Chocolate Sandwich Cookies        61             19    5.80   \n",
       "4           1  Chocolate Sandwich Cookies        61             19    5.80   \n",
       "\n",
       "   order_id  user_id  order_number  orders_day_of_week  order_hour_of_day  \\\n",
       "0   3139998      138            28                   6                 11   \n",
       "1   1977647      138            30                   6                 17   \n",
       "2    389851      709             2                   0                 21   \n",
       "3    652770      764             1                   3                 13   \n",
       "4   1813452      764             3                   4                 17   \n",
       "\n",
       "   days_since_prior_order  first_order  add_to_cart_order  reordered  \\\n",
       "0                    3.00        False                  5          0   \n",
       "1                   20.00        False                  1          1   \n",
       "2                    6.00        False                 20          0   \n",
       "3                     NaN         True                 10          0   \n",
       "4                    9.00        False                 11          1   \n",
       "\n",
       "     price_range_loc     busiest_day    busiest_days busiest_period_of_day  \\\n",
       "0  Mid-range product  Regularly busy  Regularly busy           Most orders   \n",
       "1  Mid-range product  Regularly busy  Regularly busy        Average orders   \n",
       "2  Mid-range product     Busiest day    Busiest days        Average orders   \n",
       "3  Mid-range product     Slowest day    Slowest days           Most orders   \n",
       "4  Mid-range product     Slowest day    Slowest days        Average orders   \n",
       "\n",
       "   max_order      loyalty_flag  mean_price     spenders  \\\n",
       "0         32  Regular customer        6.94  Low spender   \n",
       "1         32  Regular customer        6.94  Low spender   \n",
       "2          5      New customer        7.93  Low spender   \n",
       "3          3      New customer        4.97  Low spender   \n",
       "4          3      New customer        4.97  Low spender   \n",
       "\n",
       "   median_days_since_prior_order     frequency_flag last_name  gender  \\\n",
       "0                           8.00  Frequent customer       Cox    Male   \n",
       "1                           8.00  Frequent customer       Cox    Male   \n",
       "2                           8.00  Frequent customer     Glass  Female   \n",
       "3                           9.00  Frequent customer     Myers  Female   \n",
       "4                           9.00  Frequent customer     Myers  Female   \n",
       "\n",
       "       state  age date_joined  num_dependants marital_status  income _merge  \n",
       "0  Minnesota   81    8/1/2019               1        married   49620   both  \n",
       "1  Minnesota   81    8/1/2019               1        married   49620   both  \n",
       "2    Vermont   66   6/16/2018               2        married  158302   both  \n",
       "3  Wisconsin   40    2/9/2020               3        married   31308   both  \n",
       "4  Wisconsin   40    2/9/2020               3        married   31308   both  "
      ]
     },
     "execution_count": 11,
     "metadata": {},
     "output_type": "execute_result"
    }
   ],
   "source": [
    "# Checking dataset after import\n",
    "\n",
    "merged_all.head()"
   ]
  },
  {
   "cell_type": "markdown",
   "id": "beac4b95-f875-4808-bb97-3409dfe96788",
   "metadata": {},
   "source": [
    "## Create a histogram of the “order_hour_of_day” column."
   ]
  },
  {
   "cell_type": "code",
   "execution_count": 14,
   "id": "3e63459a-155c-48a9-9e9e-e0f992166393",
   "metadata": {},
   "outputs": [
    {
     "data": {
      "text/plain": [
       "count   32404859.00\n",
       "mean          13.43\n",
       "std            4.25\n",
       "min            0.00\n",
       "25%           10.00\n",
       "50%           13.00\n",
       "75%           16.00\n",
       "max           23.00\n",
       "Name: order_hour_of_day, dtype: float64"
      ]
     },
     "execution_count": 14,
     "metadata": {},
     "output_type": "execute_result"
    }
   ],
   "source": [
    "# Exploring the variable order_hour_of_day\n",
    "\n",
    "merged_all['order_hour_of_day'].describe()"
   ]
  },
  {
   "cell_type": "code",
   "execution_count": 16,
   "id": "7e491ce9-8e48-474e-af1b-7d370bfbbcbd",
   "metadata": {},
   "outputs": [
    {
     "data": {
      "text/plain": [
       "order_hour_of_day\n",
       "10    2761760\n",
       "11    2736140\n",
       "14    2689136\n",
       "15    2662144\n",
       "13    2660954\n",
       "12    2618532\n",
       "16    2535202\n",
       "9     2454203\n",
       "17    2087654\n",
       "8     1718118\n",
       "18    1636502\n",
       "19    1258305\n",
       "20     976156\n",
       "7      891054\n",
       "21     795637\n",
       "22     634225\n",
       "23     402316\n",
       "6      290493\n",
       "0      218769\n",
       "1      115700\n",
       "5       87961\n",
       "2       69375\n",
       "4       53242\n",
       "3       51281\n",
       "Name: count, dtype: int64"
      ]
     },
     "execution_count": 16,
     "metadata": {},
     "output_type": "execute_result"
    }
   ],
   "source": [
    "# Exploring values\n",
    "\n",
    "merged_all['order_hour_of_day'].value_counts()"
   ]
  },
  {
   "cell_type": "code",
   "execution_count": 33,
   "id": "0d03cf8d-13fd-40be-8b84-dbe93380b76c",
   "metadata": {},
   "outputs": [
    {
     "data": {
      "image/png": "[encoded data removed]",
      "text/plain": [
       "<Figure size 640x480 with 1 Axes>"
      ]
     },
     "metadata": {},
     "output_type": "display_data"
    }
   ],
   "source": [
    "## Creating a histogram\n",
    "\n",
    "# Data for histogram\n",
    "data_1 = merged_all['order_hour_of_day']\n",
    "\n",
    "# Creating a histogram\n",
    "hist_1 = data_1.plot.hist(bins = 24, color='Green', edgecolor='black')\n",
    "\n",
    "# Adding title and labels to the histogramm\n",
    "\n",
    "plt.title(\"Orders by Hour of Day\")\n",
    "plt.xlabel(\"Hours of Day\")\n",
    "plt.ylabel(\"Frequency\")\n",
    "                        \n",
    "# Show the histogram\n",
    "plt.show()"
   ]
  },
  {
   "cell_type": "code",
   "execution_count": 35,
   "id": "15a03fe2-b1c4-43a6-b24b-61ccb45ed536",
   "metadata": {},
   "outputs": [],
   "source": [
    "# The largest number of orders is made between 9 a.m. and 4 p.m.\n",
    "# After 5:00 pm orders start to gradually reduce.\n",
    "# At night, from 12:00 a.m. to 6 a.m., the number of orders is low."
   ]
  },
  {
   "cell_type": "code",
   "execution_count": 49,
   "id": "8c783df1-0445-49df-89b7-517542f5e419",
   "metadata": {},
   "outputs": [],
   "source": [
    "# Exporting the Histogram\n",
    "hist_1.figure.savefig(os.path.join(path, '02 Data','Visualizations', 'histogram_ordersbyhours.png'))"
   ]
  },
  {
   "cell_type": "markdown",
   "id": "090145f1-e1ca-4e6d-8c8b-5c28ef299178",
   "metadata": {},
   "source": [
    "## Create a bar chart from the “loyalty_flag” column."
   ]
  },
  {
   "cell_type": "code",
   "execution_count": 52,
   "id": "4e713feb-fd96-4a54-86c2-ae728195e4e5",
   "metadata": {},
   "outputs": [
    {
     "data": {
      "text/plain": [
       "count             32404859\n",
       "unique                   3\n",
       "top       Regular customer\n",
       "freq              15876776\n",
       "Name: loyalty_flag, dtype: object"
      ]
     },
     "execution_count": 52,
     "metadata": {},
     "output_type": "execute_result"
    }
   ],
   "source": [
    "# Exploring the variable order_hour_of_day\n",
    "\n",
    "merged_all['loyalty_flag'].describe()"
   ]
  },
  {
   "cell_type": "code",
   "execution_count": 53,
   "id": "eaecea2d-8adf-41ed-a8eb-cda4040d4b92",
   "metadata": {},
   "outputs": [
    {
     "data": {
      "text/plain": [
       "loyalty_flag\n",
       "Regular customer    15876776\n",
       "Loyal customer      10284093\n",
       "New customer         6243990\n",
       "Name: count, dtype: int64"
      ]
     },
     "execution_count": 53,
     "metadata": {},
     "output_type": "execute_result"
    }
   ],
   "source": [
    "# Exploring counts\n",
    "\n",
    "merged_all['loyalty_flag'].value_counts()"
   ]
  },
  {
   "cell_type": "code",
   "execution_count": 84,
   "id": "b56bf19c-8fc9-4bcf-9366-86c0c64aea6a",
   "metadata": {},
   "outputs": [
    {
     "data": {
      "image/png": "[encoded data removed]",
      "text/plain": [
       "<Figure size 640x480 with 1 Axes>"
      ]
     },
     "metadata": {},
     "output_type": "display_data"
    }
   ],
   "source": [
    "# Creating a bar chart\n",
    "\n",
    "bar = merged_all['loyalty_flag'].value_counts().plot.bar(color=['Orange'])\n",
    "\n",
    "# Adding title and labels to the plot\n",
    "bar.set_title(\"Distribution of orders among customers in terms of loyalty\")\n",
    "bar.set_xlabel(\"Loyalty\")\n",
    "bar.set_ylabel(\"Counts\")\n",
    "\n",
    "# Change the roration on x-axes\n",
    "plt.xticks(rotation=0)\n",
    "\n",
    "# Showing the bar chart\n",
    "plt.show()"
   ]
  },
  {
   "cell_type": "code",
   "execution_count": 86,
   "id": "0acf65a7-cad5-457e-9869-d595e2965379",
   "metadata": {},
   "outputs": [],
   "source": [
    "# Exporting the chart\n",
    "bar.figure.savefig(os.path.join(path, '02 Data','Visualizations', 'bar_loyal_Customers.png'))"
   ]
  },
  {
   "cell_type": "markdown",
   "id": "e4975404-f3f1-4205-9449-c98d8dd687c5",
   "metadata": {},
   "source": [
    "## Check whether there’s a difference in expenditure (the “prices” column) depending on the hour of the day. (Hint: To check this, you need to use an accurate sample for your line chart!)"
   ]
  },
  {
   "cell_type": "code",
   "execution_count": 89,
   "id": "1ee8e7a0-179f-4f7e-809c-6682d59f56aa",
   "metadata": {},
   "outputs": [
    {
     "data": {
      "text/plain": [
       "count   32399732.00\n",
       "mean           7.79\n",
       "std            4.24\n",
       "min            1.00\n",
       "25%            4.20\n",
       "50%            7.40\n",
       "75%           11.30\n",
       "max           25.00\n",
       "Name: prices, dtype: float64"
      ]
     },
     "execution_count": 89,
     "metadata": {},
     "output_type": "execute_result"
    }
   ],
   "source": [
    "# Exploring the varibale 'prices'\n",
    "\n",
    "merged_all['prices'].describe()"
   ]
  },
  {
   "cell_type": "code",
   "execution_count": 91,
   "id": "0c1e75b4-e779-42fb-b0ed-04d729b41817",
   "metadata": {},
   "outputs": [],
   "source": [
    "# Turning the unexpected price values to NaN\n",
    "\n",
    "merged_all.loc[merged_all['prices'] >100, 'prices'] = np.nan"
   ]
  },
  {
   "cell_type": "code",
   "execution_count": 93,
   "id": "635c3406-64ee-4f66-83bf-84b56632eda9",
   "metadata": {},
   "outputs": [],
   "source": [
    "# Creating a random seeed\n",
    "\n",
    "np.random.seed(4)\n",
    "\n",
    "# Creating a dev list based on the data split we want (70/30)\n",
    "\n",
    "dev = np.random.rand(len(merged_all)) <= 0.7"
   ]
  },
  {
   "cell_type": "code",
   "execution_count": 95,
   "id": "7684daac-bcb0-4993-acdd-31144409dde3",
   "metadata": {},
   "outputs": [],
   "source": [
    "# Split the dataframe into two samples\n",
    "\n",
    "big = merged_all[dev] # store 70% of the sample in the dataframe big\n",
    "\n",
    "small = merged_all[~dev] # store 30% of the sample in the dataframe small"
   ]
  },
  {
   "cell_type": "code",
   "execution_count": 96,
   "id": "c551e65c-c3d6-4e19-b97d-386aaca4e4ff",
   "metadata": {},
   "outputs": [
    {
     "data": {
      "text/plain": [
       "32404859"
      ]
     },
     "execution_count": 96,
     "metadata": {},
     "output_type": "execute_result"
    }
   ],
   "source": [
    "# Compare the dataframe length to the sum of the big and small samples\n",
    "\n",
    "len(merged_all)"
   ]
  },
  {
   "cell_type": "code",
   "execution_count": 97,
   "id": "173fc023-c86f-4384-a569-85cb1d1b656e",
   "metadata": {},
   "outputs": [
    {
     "data": {
      "text/plain": [
       "32404859"
      ]
     },
     "execution_count": 97,
     "metadata": {},
     "output_type": "execute_result"
    }
   ],
   "source": [
    "len(big) + len(small)"
   ]
  },
  {
   "cell_type": "code",
   "execution_count": 98,
   "id": "8594340d-fe52-41cd-b04a-d2522f9abdd7",
   "metadata": {},
   "outputs": [],
   "source": [
    "# Reducing the number of columns to the number that is necessary\n",
    "\n",
    "dataframe_2 = small[['order_hour_of_day','prices']]"
   ]
  },
  {
   "cell_type": "code",
   "execution_count": 99,
   "id": "f54840b4-2339-4215-9dc3-b7a9c5f33529",
   "metadata": {},
   "outputs": [
    {
     "data": {
      "text/html": [
       "<div>\n",
       "<style scoped>\n",
       "    .dataframe tbody tr th:only-of-type {\n",
       "        vertical-align: middle;\n",
       "    }\n",
       "\n",
       "    .dataframe tbody tr th {\n",
       "        vertical-align: top;\n",
       "    }\n",
       "\n",
       "    .dataframe thead th {\n",
       "        text-align: right;\n",
       "    }\n",
       "</style>\n",
       "<table border=\"1\" class=\"dataframe\">\n",
       "  <thead>\n",
       "    <tr style=\"text-align: right;\">\n",
       "      <th></th>\n",
       "      <th>order_hour_of_day</th>\n",
       "      <th>prices</th>\n",
       "    </tr>\n",
       "  </thead>\n",
       "  <tbody>\n",
       "    <tr>\n",
       "      <th>0</th>\n",
       "      <td>11</td>\n",
       "      <td>5.80</td>\n",
       "    </tr>\n",
       "    <tr>\n",
       "      <th>2</th>\n",
       "      <td>21</td>\n",
       "      <td>5.80</td>\n",
       "    </tr>\n",
       "    <tr>\n",
       "      <th>3</th>\n",
       "      <td>13</td>\n",
       "      <td>5.80</td>\n",
       "    </tr>\n",
       "    <tr>\n",
       "      <th>6</th>\n",
       "      <td>14</td>\n",
       "      <td>5.80</td>\n",
       "    </tr>\n",
       "    <tr>\n",
       "      <th>10</th>\n",
       "      <td>11</td>\n",
       "      <td>5.80</td>\n",
       "    </tr>\n",
       "  </tbody>\n",
       "</table>\n",
       "</div>"
      ],
      "text/plain": [
       "    order_hour_of_day  prices\n",
       "0                  11    5.80\n",
       "2                  21    5.80\n",
       "3                  13    5.80\n",
       "6                  14    5.80\n",
       "10                 11    5.80"
      ]
     },
     "execution_count": 99,
     "metadata": {},
     "output_type": "execute_result"
    }
   ],
   "source": [
    "# Check if the subset of the sample was made properly\n",
    "\n",
    "dataframe_2.head(5)"
   ]
  },
  {
   "cell_type": "code",
   "execution_count": 100,
   "id": "836916af-198a-4cca-8181-31b5c9c24af8",
   "metadata": {},
   "outputs": [
    {
     "data": {
      "image/png": "[encoded data removed]",
      "text/plain": [
       "<Figure size 640x480 with 1 Axes>"
      ]
     },
     "metadata": {},
     "output_type": "display_data"
    }
   ],
   "source": [
    "# Creating a line chart \n",
    "\n",
    "line_hour_price = sns.lineplot(data = dataframe_2, x = 'order_hour_of_day',y = 'prices')\n",
    "\n",
    "# Adding title and labels to the line chart\n",
    "\n",
    "plt.title(\"Price by Hours\")\n",
    "plt.xlabel(\"Hour of a Day\")\n",
    "plt.ylabel(\"Prices\")\n",
    "\n",
    "# Show the line chart\n",
    "plt.show()"
   ]
  },
  {
   "cell_type": "code",
   "execution_count": 107,
   "id": "bc484d5d-f8ca-418d-971e-9081476ee78d",
   "metadata": {},
   "outputs": [],
   "source": [
    "# Price volume distribution appear to be steady and do not change much during the day. It fluctuates between 7.750 and 7.850."
   ]
  },
  {
   "cell_type": "code",
   "execution_count": 109,
   "id": "70dbcfd4-2aec-4f65-a09c-7f3d1781064d",
   "metadata": {},
   "outputs": [],
   "source": [
    "line_hour_price.figure.savefig(os.path.join(path, '02 Data','Visualizations', 'line_hour_price.png'))"
   ]
  },
  {
   "cell_type": "markdown",
   "id": "879d80c7-164b-4712-ab27-b03d38a54aae",
   "metadata": {},
   "source": [
    "## Exploratory analysis of customer demographics."
   ]
  },
  {
   "cell_type": "code",
   "execution_count": 142,
   "id": "5c49a3da-fd4a-48be-84ec-398d4d119e77",
   "metadata": {},
   "outputs": [
    {
     "data": {
      "text/html": [
       "<div>\n",
       "<style scoped>\n",
       "    .dataframe tbody tr th:only-of-type {\n",
       "        vertical-align: middle;\n",
       "    }\n",
       "\n",
       "    .dataframe tbody tr th {\n",
       "        vertical-align: top;\n",
       "    }\n",
       "\n",
       "    .dataframe thead th {\n",
       "        text-align: right;\n",
       "    }\n",
       "</style>\n",
       "<table border=\"1\" class=\"dataframe\">\n",
       "  <thead>\n",
       "    <tr style=\"text-align: right;\">\n",
       "      <th></th>\n",
       "      <th>product_id</th>\n",
       "      <th>product_name</th>\n",
       "      <th>aisle_id</th>\n",
       "      <th>department_id</th>\n",
       "      <th>prices</th>\n",
       "      <th>order_id</th>\n",
       "      <th>user_id</th>\n",
       "      <th>order_number</th>\n",
       "      <th>orders_day_of_week</th>\n",
       "      <th>order_hour_of_day</th>\n",
       "      <th>days_since_prior_order</th>\n",
       "      <th>first_order</th>\n",
       "      <th>add_to_cart_order</th>\n",
       "      <th>reordered</th>\n",
       "      <th>price_range_loc</th>\n",
       "      <th>busiest_day</th>\n",
       "      <th>busiest_days</th>\n",
       "      <th>busiest_period_of_day</th>\n",
       "      <th>max_order</th>\n",
       "      <th>loyalty_flag</th>\n",
       "      <th>mean_price</th>\n",
       "      <th>spenders</th>\n",
       "      <th>median_days_since_prior_order</th>\n",
       "      <th>frequency_flag</th>\n",
       "      <th>last_name</th>\n",
       "      <th>gender</th>\n",
       "      <th>state</th>\n",
       "      <th>age</th>\n",
       "      <th>date_joined</th>\n",
       "      <th>num_dependants</th>\n",
       "      <th>marital_status</th>\n",
       "      <th>income</th>\n",
       "      <th>_merge</th>\n",
       "    </tr>\n",
       "  </thead>\n",
       "  <tbody>\n",
       "    <tr>\n",
       "      <th>0</th>\n",
       "      <td>1</td>\n",
       "      <td>Chocolate Sandwich Cookies</td>\n",
       "      <td>61</td>\n",
       "      <td>19</td>\n",
       "      <td>5.80</td>\n",
       "      <td>3139998</td>\n",
       "      <td>138</td>\n",
       "      <td>28</td>\n",
       "      <td>6</td>\n",
       "      <td>11</td>\n",
       "      <td>3.00</td>\n",
       "      <td>False</td>\n",
       "      <td>5</td>\n",
       "      <td>0</td>\n",
       "      <td>Mid-range product</td>\n",
       "      <td>Regularly busy</td>\n",
       "      <td>Regularly busy</td>\n",
       "      <td>Most orders</td>\n",
       "      <td>32</td>\n",
       "      <td>Regular customer</td>\n",
       "      <td>6.94</td>\n",
       "      <td>Low spender</td>\n",
       "      <td>8.00</td>\n",
       "      <td>Frequent customer</td>\n",
       "      <td>Cox</td>\n",
       "      <td>Male</td>\n",
       "      <td>Minnesota</td>\n",
       "      <td>81</td>\n",
       "      <td>8/1/2019</td>\n",
       "      <td>1</td>\n",
       "      <td>married</td>\n",
       "      <td>49620</td>\n",
       "      <td>both</td>\n",
       "    </tr>\n",
       "    <tr>\n",
       "      <th>1</th>\n",
       "      <td>1</td>\n",
       "      <td>Chocolate Sandwich Cookies</td>\n",
       "      <td>61</td>\n",
       "      <td>19</td>\n",
       "      <td>5.80</td>\n",
       "      <td>1977647</td>\n",
       "      <td>138</td>\n",
       "      <td>30</td>\n",
       "      <td>6</td>\n",
       "      <td>17</td>\n",
       "      <td>20.00</td>\n",
       "      <td>False</td>\n",
       "      <td>1</td>\n",
       "      <td>1</td>\n",
       "      <td>Mid-range product</td>\n",
       "      <td>Regularly busy</td>\n",
       "      <td>Regularly busy</td>\n",
       "      <td>Average orders</td>\n",
       "      <td>32</td>\n",
       "      <td>Regular customer</td>\n",
       "      <td>6.94</td>\n",
       "      <td>Low spender</td>\n",
       "      <td>8.00</td>\n",
       "      <td>Frequent customer</td>\n",
       "      <td>Cox</td>\n",
       "      <td>Male</td>\n",
       "      <td>Minnesota</td>\n",
       "      <td>81</td>\n",
       "      <td>8/1/2019</td>\n",
       "      <td>1</td>\n",
       "      <td>married</td>\n",
       "      <td>49620</td>\n",
       "      <td>both</td>\n",
       "    </tr>\n",
       "    <tr>\n",
       "      <th>2</th>\n",
       "      <td>1</td>\n",
       "      <td>Chocolate Sandwich Cookies</td>\n",
       "      <td>61</td>\n",
       "      <td>19</td>\n",
       "      <td>5.80</td>\n",
       "      <td>389851</td>\n",
       "      <td>709</td>\n",
       "      <td>2</td>\n",
       "      <td>0</td>\n",
       "      <td>21</td>\n",
       "      <td>6.00</td>\n",
       "      <td>False</td>\n",
       "      <td>20</td>\n",
       "      <td>0</td>\n",
       "      <td>Mid-range product</td>\n",
       "      <td>Busiest day</td>\n",
       "      <td>Busiest days</td>\n",
       "      <td>Average orders</td>\n",
       "      <td>5</td>\n",
       "      <td>New customer</td>\n",
       "      <td>7.93</td>\n",
       "      <td>Low spender</td>\n",
       "      <td>8.00</td>\n",
       "      <td>Frequent customer</td>\n",
       "      <td>Glass</td>\n",
       "      <td>Female</td>\n",
       "      <td>Vermont</td>\n",
       "      <td>66</td>\n",
       "      <td>6/16/2018</td>\n",
       "      <td>2</td>\n",
       "      <td>married</td>\n",
       "      <td>158302</td>\n",
       "      <td>both</td>\n",
       "    </tr>\n",
       "    <tr>\n",
       "      <th>3</th>\n",
       "      <td>1</td>\n",
       "      <td>Chocolate Sandwich Cookies</td>\n",
       "      <td>61</td>\n",
       "      <td>19</td>\n",
       "      <td>5.80</td>\n",
       "      <td>652770</td>\n",
       "      <td>764</td>\n",
       "      <td>1</td>\n",
       "      <td>3</td>\n",
       "      <td>13</td>\n",
       "      <td>NaN</td>\n",
       "      <td>True</td>\n",
       "      <td>10</td>\n",
       "      <td>0</td>\n",
       "      <td>Mid-range product</td>\n",
       "      <td>Slowest day</td>\n",
       "      <td>Slowest days</td>\n",
       "      <td>Most orders</td>\n",
       "      <td>3</td>\n",
       "      <td>New customer</td>\n",
       "      <td>4.97</td>\n",
       "      <td>Low spender</td>\n",
       "      <td>9.00</td>\n",
       "      <td>Frequent customer</td>\n",
       "      <td>Myers</td>\n",
       "      <td>Female</td>\n",
       "      <td>Wisconsin</td>\n",
       "      <td>40</td>\n",
       "      <td>2/9/2020</td>\n",
       "      <td>3</td>\n",
       "      <td>married</td>\n",
       "      <td>31308</td>\n",
       "      <td>both</td>\n",
       "    </tr>\n",
       "    <tr>\n",
       "      <th>4</th>\n",
       "      <td>1</td>\n",
       "      <td>Chocolate Sandwich Cookies</td>\n",
       "      <td>61</td>\n",
       "      <td>19</td>\n",
       "      <td>5.80</td>\n",
       "      <td>1813452</td>\n",
       "      <td>764</td>\n",
       "      <td>3</td>\n",
       "      <td>4</td>\n",
       "      <td>17</td>\n",
       "      <td>9.00</td>\n",
       "      <td>False</td>\n",
       "      <td>11</td>\n",
       "      <td>1</td>\n",
       "      <td>Mid-range product</td>\n",
       "      <td>Slowest day</td>\n",
       "      <td>Slowest days</td>\n",
       "      <td>Average orders</td>\n",
       "      <td>3</td>\n",
       "      <td>New customer</td>\n",
       "      <td>4.97</td>\n",
       "      <td>Low spender</td>\n",
       "      <td>9.00</td>\n",
       "      <td>Frequent customer</td>\n",
       "      <td>Myers</td>\n",
       "      <td>Female</td>\n",
       "      <td>Wisconsin</td>\n",
       "      <td>40</td>\n",
       "      <td>2/9/2020</td>\n",
       "      <td>3</td>\n",
       "      <td>married</td>\n",
       "      <td>31308</td>\n",
       "      <td>both</td>\n",
       "    </tr>\n",
       "  </tbody>\n",
       "</table>\n",
       "</div>"
      ],
      "text/plain": [
       "   product_id                product_name  aisle_id  department_id  prices  \\\n",
       "0           1  Chocolate Sandwich Cookies        61             19    5.80   \n",
       "1           1  Chocolate Sandwich Cookies        61             19    5.80   \n",
       "2           1  Chocolate Sandwich Cookies        61             19    5.80   \n",
       "3           1  Chocolate Sandwich Cookies        61             19    5.80   \n",
       "4           1  Chocolate Sandwich Cookies        61             19    5.80   \n",
       "\n",
       "   order_id  user_id  order_number  orders_day_of_week  order_hour_of_day  \\\n",
       "0   3139998      138            28                   6                 11   \n",
       "1   1977647      138            30                   6                 17   \n",
       "2    389851      709             2                   0                 21   \n",
       "3    652770      764             1                   3                 13   \n",
       "4   1813452      764             3                   4                 17   \n",
       "\n",
       "   days_since_prior_order  first_order  add_to_cart_order  reordered  \\\n",
       "0                    3.00        False                  5          0   \n",
       "1                   20.00        False                  1          1   \n",
       "2                    6.00        False                 20          0   \n",
       "3                     NaN         True                 10          0   \n",
       "4                    9.00        False                 11          1   \n",
       "\n",
       "     price_range_loc     busiest_day    busiest_days busiest_period_of_day  \\\n",
       "0  Mid-range product  Regularly busy  Regularly busy           Most orders   \n",
       "1  Mid-range product  Regularly busy  Regularly busy        Average orders   \n",
       "2  Mid-range product     Busiest day    Busiest days        Average orders   \n",
       "3  Mid-range product     Slowest day    Slowest days           Most orders   \n",
       "4  Mid-range product     Slowest day    Slowest days        Average orders   \n",
       "\n",
       "   max_order      loyalty_flag  mean_price     spenders  \\\n",
       "0         32  Regular customer        6.94  Low spender   \n",
       "1         32  Regular customer        6.94  Low spender   \n",
       "2          5      New customer        7.93  Low spender   \n",
       "3          3      New customer        4.97  Low spender   \n",
       "4          3      New customer        4.97  Low spender   \n",
       "\n",
       "   median_days_since_prior_order     frequency_flag last_name  gender  \\\n",
       "0                           8.00  Frequent customer       Cox    Male   \n",
       "1                           8.00  Frequent customer       Cox    Male   \n",
       "2                           8.00  Frequent customer     Glass  Female   \n",
       "3                           9.00  Frequent customer     Myers  Female   \n",
       "4                           9.00  Frequent customer     Myers  Female   \n",
       "\n",
       "       state  age date_joined  num_dependants marital_status  income _merge  \n",
       "0  Minnesota   81    8/1/2019               1        married   49620   both  \n",
       "1  Minnesota   81    8/1/2019               1        married   49620   both  \n",
       "2    Vermont   66   6/16/2018               2        married  158302   both  \n",
       "3  Wisconsin   40    2/9/2020               3        married   31308   both  \n",
       "4  Wisconsin   40    2/9/2020               3        married   31308   both  "
      ]
     },
     "execution_count": 142,
     "metadata": {},
     "output_type": "execute_result"
    }
   ],
   "source": [
    "# Looking at the dataset\n",
    "\n",
    "merged_all.head()"
   ]
  },
  {
   "cell_type": "code",
   "execution_count": 144,
   "id": "26656061-0522-4a3a-94c6-20b380ed014a",
   "metadata": {},
   "outputs": [
    {
     "data": {
      "text/html": [
       "<div>\n",
       "<style scoped>\n",
       "    .dataframe tbody tr th:only-of-type {\n",
       "        vertical-align: middle;\n",
       "    }\n",
       "\n",
       "    .dataframe tbody tr th {\n",
       "        vertical-align: top;\n",
       "    }\n",
       "\n",
       "    .dataframe thead th {\n",
       "        text-align: right;\n",
       "    }\n",
       "</style>\n",
       "<table border=\"1\" class=\"dataframe\">\n",
       "  <thead>\n",
       "    <tr style=\"text-align: right;\">\n",
       "      <th></th>\n",
       "      <th>user_id</th>\n",
       "      <th>prices</th>\n",
       "      <th>price_range_loc</th>\n",
       "      <th>loyalty_flag</th>\n",
       "      <th>spenders</th>\n",
       "      <th>gender</th>\n",
       "      <th>state</th>\n",
       "      <th>age</th>\n",
       "      <th>num_dependants</th>\n",
       "      <th>marital_status</th>\n",
       "      <th>income</th>\n",
       "    </tr>\n",
       "  </thead>\n",
       "  <tbody>\n",
       "    <tr>\n",
       "      <th>0</th>\n",
       "      <td>138</td>\n",
       "      <td>5.80</td>\n",
       "      <td>Mid-range product</td>\n",
       "      <td>Regular customer</td>\n",
       "      <td>Low spender</td>\n",
       "      <td>Male</td>\n",
       "      <td>Minnesota</td>\n",
       "      <td>81</td>\n",
       "      <td>1</td>\n",
       "      <td>married</td>\n",
       "      <td>49620</td>\n",
       "    </tr>\n",
       "    <tr>\n",
       "      <th>2</th>\n",
       "      <td>709</td>\n",
       "      <td>5.80</td>\n",
       "      <td>Mid-range product</td>\n",
       "      <td>New customer</td>\n",
       "      <td>Low spender</td>\n",
       "      <td>Female</td>\n",
       "      <td>Vermont</td>\n",
       "      <td>66</td>\n",
       "      <td>2</td>\n",
       "      <td>married</td>\n",
       "      <td>158302</td>\n",
       "    </tr>\n",
       "    <tr>\n",
       "      <th>3</th>\n",
       "      <td>764</td>\n",
       "      <td>5.80</td>\n",
       "      <td>Mid-range product</td>\n",
       "      <td>New customer</td>\n",
       "      <td>Low spender</td>\n",
       "      <td>Female</td>\n",
       "      <td>Wisconsin</td>\n",
       "      <td>40</td>\n",
       "      <td>3</td>\n",
       "      <td>married</td>\n",
       "      <td>31308</td>\n",
       "    </tr>\n",
       "    <tr>\n",
       "      <th>6</th>\n",
       "      <td>825</td>\n",
       "      <td>5.80</td>\n",
       "      <td>Mid-range product</td>\n",
       "      <td>New customer</td>\n",
       "      <td>Low spender</td>\n",
       "      <td>Male</td>\n",
       "      <td>District of Columbia</td>\n",
       "      <td>20</td>\n",
       "      <td>3</td>\n",
       "      <td>living with parents and siblings</td>\n",
       "      <td>34171</td>\n",
       "    </tr>\n",
       "    <tr>\n",
       "      <th>10</th>\n",
       "      <td>1379</td>\n",
       "      <td>5.80</td>\n",
       "      <td>Mid-range product</td>\n",
       "      <td>New customer</td>\n",
       "      <td>Low spender</td>\n",
       "      <td>Male</td>\n",
       "      <td>Alaska</td>\n",
       "      <td>61</td>\n",
       "      <td>1</td>\n",
       "      <td>married</td>\n",
       "      <td>42573</td>\n",
       "    </tr>\n",
       "  </tbody>\n",
       "</table>\n",
       "</div>"
      ],
      "text/plain": [
       "    user_id  prices    price_range_loc      loyalty_flag     spenders  gender  \\\n",
       "0       138    5.80  Mid-range product  Regular customer  Low spender    Male   \n",
       "2       709    5.80  Mid-range product      New customer  Low spender  Female   \n",
       "3       764    5.80  Mid-range product      New customer  Low spender  Female   \n",
       "6       825    5.80  Mid-range product      New customer  Low spender    Male   \n",
       "10     1379    5.80  Mid-range product      New customer  Low spender    Male   \n",
       "\n",
       "                   state  age  num_dependants  \\\n",
       "0              Minnesota   81               1   \n",
       "2                Vermont   66               2   \n",
       "3              Wisconsin   40               3   \n",
       "6   District of Columbia   20               3   \n",
       "10                Alaska   61               1   \n",
       "\n",
       "                      marital_status  income  \n",
       "0                            married   49620  \n",
       "2                            married  158302  \n",
       "3                            married   31308  \n",
       "6   living with parents and siblings   34171  \n",
       "10                           married   42573  "
      ]
     },
     "execution_count": 144,
     "metadata": {},
     "output_type": "execute_result"
    }
   ],
   "source": [
    "# Create a sample dataframe for demographic analysis\n",
    "df_sample = small[['user_id','prices','price_range_loc','loyalty_flag','spenders','gender','state','age','num_dependants','marital_status','income']]\n",
    "\n",
    "# Check the output\n",
    "df_sample.head()"
   ]
  },
  {
   "cell_type": "code",
   "execution_count": null,
   "id": "599cbb98-266f-4fd9-9fb7-f5708802e0bd",
   "metadata": {},
   "outputs": [],
   "source": []
  },
  {
   "cell_type": "code",
   "execution_count": 146,
   "id": "0521ea91-7c11-4ea1-a303-ea5e47cb9e40",
   "metadata": {},
   "outputs": [
    {
     "data": {
      "text/html": [
       "<div>\n",
       "<style scoped>\n",
       "    .dataframe tbody tr th:only-of-type {\n",
       "        vertical-align: middle;\n",
       "    }\n",
       "\n",
       "    .dataframe tbody tr th {\n",
       "        vertical-align: top;\n",
       "    }\n",
       "\n",
       "    .dataframe thead th {\n",
       "        text-align: right;\n",
       "    }\n",
       "</style>\n",
       "<table border=\"1\" class=\"dataframe\">\n",
       "  <thead>\n",
       "    <tr style=\"text-align: right;\">\n",
       "      <th></th>\n",
       "      <th>age</th>\n",
       "      <th>num_dependants</th>\n",
       "    </tr>\n",
       "  </thead>\n",
       "  <tbody>\n",
       "    <tr>\n",
       "      <th>count</th>\n",
       "      <td>9721098.00</td>\n",
       "      <td>9721098.00</td>\n",
       "    </tr>\n",
       "    <tr>\n",
       "      <th>mean</th>\n",
       "      <td>49.47</td>\n",
       "      <td>1.50</td>\n",
       "    </tr>\n",
       "    <tr>\n",
       "      <th>std</th>\n",
       "      <td>18.49</td>\n",
       "      <td>1.12</td>\n",
       "    </tr>\n",
       "    <tr>\n",
       "      <th>min</th>\n",
       "      <td>18.00</td>\n",
       "      <td>0.00</td>\n",
       "    </tr>\n",
       "    <tr>\n",
       "      <th>25%</th>\n",
       "      <td>33.00</td>\n",
       "      <td>0.00</td>\n",
       "    </tr>\n",
       "    <tr>\n",
       "      <th>50%</th>\n",
       "      <td>49.00</td>\n",
       "      <td>2.00</td>\n",
       "    </tr>\n",
       "    <tr>\n",
       "      <th>75%</th>\n",
       "      <td>65.00</td>\n",
       "      <td>3.00</td>\n",
       "    </tr>\n",
       "    <tr>\n",
       "      <th>max</th>\n",
       "      <td>81.00</td>\n",
       "      <td>3.00</td>\n",
       "    </tr>\n",
       "  </tbody>\n",
       "</table>\n",
       "</div>"
      ],
      "text/plain": [
       "             age  num_dependants\n",
       "count 9721098.00      9721098.00\n",
       "mean       49.47            1.50\n",
       "std        18.49            1.12\n",
       "min        18.00            0.00\n",
       "25%        33.00            0.00\n",
       "50%        49.00            2.00\n",
       "75%        65.00            3.00\n",
       "max        81.00            3.00"
      ]
     },
     "execution_count": 146,
     "metadata": {},
     "output_type": "execute_result"
    }
   ],
   "source": [
    "# reduce datset to the columns number of dependents and age groups\n",
    "\n",
    "df_sample[['age','num_dependants']].describe()"
   ]
  },
  {
   "cell_type": "code",
   "execution_count": 148,
   "id": "ff82157e-5b5a-43c9-bab4-6124992af051",
   "metadata": {},
   "outputs": [
    {
     "data": {
      "image/png": "[encoded data removed]",
      "text/plain": [
       "<Figure size 640x480 with 1 Axes>"
      ]
     },
     "metadata": {},
     "output_type": "display_data"
    }
   ],
   "source": [
    "# Creating a line chart \n",
    "\n",
    "line_age_depend = sns.lineplot(data = df_sample, x = 'age',y = 'num_dependants', color='Orange', linewidth=2.5)\n",
    "\n",
    "# Adding title and labels to the line chart\n",
    "\n",
    "plt.title(\"Connections between age and number of dependants\")\n",
    "plt.xlabel(\"Age\")\n",
    "plt.ylabel(\"Number of dependants\")\n",
    "\n",
    "# Show the line chart\n",
    "plt.show()"
   ]
  },
  {
   "cell_type": "code",
   "execution_count": 152,
   "id": "94fc5679-c484-4962-bd1b-32e641cd1160",
   "metadata": {},
   "outputs": [
    {
     "name": "stdout",
     "output_type": "stream",
     "text": [
      "Correlation between age and number of dependents: -0.000604893751775168\n"
     ]
    }
   ],
   "source": [
    "# Calculating correlation between variables number of dependents and age\n",
    "\n",
    "corr_age_num_dep = df_sample['age'].corr(df_sample['num_dependants'])\n",
    "print(\"Correlation between age and number of dependents:\", corr_age_num_dep)"
   ]
  },
  {
   "cell_type": "code",
   "execution_count": 154,
   "id": "34cda910-34a2-4390-a8f8-2a91ed63f328",
   "metadata": {},
   "outputs": [],
   "source": [
    "# No correlation between variables number of dependents and age groups.\n",
    "# There is no relationship between number of dependents and age."
   ]
  },
  {
   "cell_type": "code",
   "execution_count": 156,
   "id": "00cd0485-760a-4d56-a5a1-7f98da6ca6ba",
   "metadata": {},
   "outputs": [],
   "source": [
    "# Exporting line chart\n",
    "\n",
    "line_age_depend.figure.savefig(os.path.join(path, '02 Data','Visualizations', 'line_age_num_depend.png'))"
   ]
  },
  {
   "cell_type": "markdown",
   "id": "64d8d0c5-e75d-417d-a117-a9a56bd9df2e",
   "metadata": {},
   "source": [
    "## Connection between age and spending power (income)."
   ]
  },
  {
   "cell_type": "code",
   "execution_count": 164,
   "id": "c8ba8ee5-e5bf-4fbb-a551-a8ed2eb044c2",
   "metadata": {},
   "outputs": [],
   "source": [
    "# Check the ouliers where the price is above 100$\n",
    "df_sample.loc[df_sample['prices'] > 100]\n",
    "\n",
    "# Unexpected values to NaN\n",
    "df_sample.loc[df_sample['prices'] >100, 'prices'] = np.nan"
   ]
  },
  {
   "cell_type": "code",
   "execution_count": 166,
   "id": "9763de63-4044-49c2-a4d8-5f15f5cef133",
   "metadata": {},
   "outputs": [
    {
     "data": {
      "image/png": "[encoded data removed]",
      "text/plain": [
       "<Figure size 640x480 with 1 Axes>"
      ]
     },
     "metadata": {},
     "output_type": "display_data"
    }
   ],
   "source": [
    "# Creating a scatterplot without outliers\n",
    "\n",
    "scatter_age_income = plt.scatter(df_sample['age'], df_sample['income'], color= 'Orange')\n",
    "plt.xlabel('Age')\n",
    "plt.ylabel('Income')\n",
    "plt.title('Scatter Plot: Age vs. Income')\n",
    "plt.show()\n",
    "\n",
    "# Show the histogram\n",
    "plt.show()"
   ]
  },
  {
   "cell_type": "code",
   "execution_count": 168,
   "id": "bd341e87-8b62-48a9-9013-c7c93148c029",
   "metadata": {},
   "outputs": [],
   "source": [
    "# Based on the scatter plot, an income increase present after the age of 40+ has been identified."
   ]
  },
  {
   "cell_type": "code",
   "execution_count": 170,
   "id": "89c67f51-6f17-4a93-9933-36efbce756fd",
   "metadata": {},
   "outputs": [],
   "source": [
    "# Exporting scatterplot\n",
    "\n",
    "scatter_age_income.figure.savefig(os.path.join(path, '02 Data','Visualizations', 'scatterplot_age_income.png'))"
   ]
  },
  {
   "cell_type": "code",
   "execution_count": null,
   "id": "f3f4e1b2-2ffa-4791-86ac-e98cef007449",
   "metadata": {},
   "outputs": [],
   "source": []
  }
 ],
 "metadata": {
  "kernelspec": {
   "display_name": "Python 3 (ipykernel)",
   "language": "python",
   "name": "python3"
  },
  "language_info": {
   "codemirror_mode": {
    "name": "ipython",
    "version": 3
   },
   "file_extension": ".py",
   "mimetype": "text/x-python",
   "name": "python",
   "nbconvert_exporter": "python",
   "pygments_lexer": "ipython3",
   "version": "3.12.4"
  }
 },
 "nbformat": 4,
 "nbformat_minor": 5
}
